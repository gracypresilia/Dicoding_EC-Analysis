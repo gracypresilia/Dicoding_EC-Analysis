{
  "cells": [
    {
      "cell_type": "markdown",
      "metadata": {
        "id": "H9wADwK78DCz"
      },
      "source": [
        "# Data Analysis: E-Commerce Public Dataset"
      ]
    },
    {
      "cell_type": "markdown",
      "metadata": {
        "id": "eE0raob58DC0"
      },
      "source": [
        "## Determining Business Questions"
      ]
    },
    {
      "cell_type": "markdown",
      "metadata": {
        "id": "GmQeQ5YF8DC0"
      },
      "source": [
        "- How is the company's sales and revenue performance on a month-to-month basis?\n",
        "- What is the distribution of customer transaction locations for the company?  \n",
        "- What is the relationship between customer locations and seller locations involved in transactions?"
      ]
    },
    {
      "cell_type": "markdown",
      "metadata": {
        "id": "H-z4QGlO8DC1"
      },
      "source": [
        "## Import All Packages/Library"
      ]
    },
    {
      "cell_type": "code",
      "execution_count": 56,
      "metadata": {
        "id": "FVYwaObI8DC1"
      },
      "outputs": [],
      "source": [
        "import os\n",
        "import pandas as pd\n",
        "import matplotlib.pyplot as plt\n",
        "import matplotlib.ticker as mticker\n",
        "import seaborn as sns\n",
        "import numpy as np"
      ]
    },
    {
      "cell_type": "markdown",
      "metadata": {
        "id": "h_Sh51Xy8DC1"
      },
      "source": [
        "## Data Wrangling"
      ]
    },
    {
      "cell_type": "markdown",
      "metadata": {
        "id": "sXU2GBYu8DC1"
      },
      "source": [
        "### Gathering Data"
      ]
    },
    {
      "cell_type": "markdown",
      "metadata": {},
      "source": [
        "#### Based on the business questions outlined earlier, the following data is required:\n",
        "- How is the company's sales and revenue performance on a month-to-month basis?\n",
        "    1. Orders Dataset: Contains data on purchase dates and quantities (after products are delivered).\n",
        "    2. Order Payments Dataset: Contains data on payment amounts for orders.  \n",
        "    Both datasets are linked through the **order ID**.\n",
        "\n",
        "- What is the distribution of customer transaction locations for the company?  \n",
        "    Customers Dataset: Contains data on the state locations of customers.\n",
        "\n",
        "- What is the relationship between customer locations and seller locations involved in transactions?\n",
        "    1. Customers Dataset: Contains data on customer city locations.\n",
        "    2. Orders Dataset: Contains order ID (transaction ID) data.\n",
        "    3. Order Items Dataset: Contains data on sellers involved in transactions.\n",
        "    4. Sellers Dataset: Contains data on seller city locations.  \n",
        "    These datasets are linked incrementally."
      ]
    },
    {
      "cell_type": "markdown",
      "metadata": {},
      "source": [
        "#### **Step 1:** Displaying the list of files in the \"data\" folder.\n",
        "##### Objective: To identify the available datasets."
      ]
    },
    {
      "cell_type": "code",
      "execution_count": 57,
      "metadata": {
        "colab": {
          "base_uri": "https://localhost:8080/",
          "height": 176
        },
        "id": "zjCBk1BI8DC1",
        "outputId": "8ade891f-b777-4e99-a226-2bcff74e5be9"
      },
      "outputs": [
        {
          "name": "stdout",
          "output_type": "stream",
          "text": [
            "customers_dataset.csv\n",
            "geolocation_dataset.csv\n",
            "orders_dataset.csv\n",
            "order_items_dataset.csv\n",
            "order_payments_dataset.csv\n",
            "order_reviews_dataset.csv\n",
            "products_dataset.csv\n",
            "product_category_name_translation.csv\n",
            "sellers_dataset.csv\n"
          ]
        }
      ],
      "source": [
        "for filename in os.listdir(\"./data\"):\n",
        "     print(filename)"
      ]
    },
    {
      "cell_type": "markdown",
      "metadata": {},
      "source": [
        "#### **Step 2:** Reading the required data files.\n",
        "##### Objective: To read the necessary data files so that they can be accessed in subsequent processes."
      ]
    },
    {
      "cell_type": "code",
      "execution_count": 58,
      "metadata": {},
      "outputs": [],
      "source": [
        "# Read \"orders_dataset.csv\"\n",
        "orders_df = pd.read_csv(\"./data/orders_dataset.csv\", delimiter=\",\")\n",
        "\n",
        "# Read \"order_payments_dataset.csv\"\n",
        "payments_df = pd.read_csv(\"./data/order_payments_dataset.csv\", delimiter=\",\")\n",
        "\n",
        "# Read \"customers_dataset.csv\"\n",
        "customers_df = pd.read_csv(\"./data/customers_dataset.csv\", delimiter=\",\")\n",
        "\n",
        "# Read \"order_items_dataset.csv\"\n",
        "items_df = pd.read_csv(\"./data/order_items_dataset.csv\", delimiter=\",\")\n",
        "\n",
        "# Read \"sellers_dataset.csv\"\n",
        "sellers_df = pd.read_csv(\"./data/sellers_dataset.csv\", delimiter=\",\")"
      ]
    },
    {
      "cell_type": "markdown",
      "metadata": {},
      "source": [
        "#### **Step 3:** Displaying a preview of the required data files.\n",
        "##### Objective: To understand the contents of the data files and prevent errors in data usage during the analysis process."
      ]
    },
    {
      "cell_type": "markdown",
      "metadata": {},
      "source": [
        "Preview of **Order Dataset** (\"orders_dataset.csv\")"
      ]
    },
    {
      "cell_type": "code",
      "execution_count": 59,
      "metadata": {},
      "outputs": [
        {
          "data": {
            "text/html": [
              "<div>\n",
              "<style scoped>\n",
              "    .dataframe tbody tr th:only-of-type {\n",
              "        vertical-align: middle;\n",
              "    }\n",
              "\n",
              "    .dataframe tbody tr th {\n",
              "        vertical-align: top;\n",
              "    }\n",
              "\n",
              "    .dataframe thead th {\n",
              "        text-align: right;\n",
              "    }\n",
              "</style>\n",
              "<table border=\"1\" class=\"dataframe\">\n",
              "  <thead>\n",
              "    <tr style=\"text-align: right;\">\n",
              "      <th></th>\n",
              "      <th>order_id</th>\n",
              "      <th>customer_id</th>\n",
              "      <th>order_status</th>\n",
              "      <th>order_purchase_timestamp</th>\n",
              "      <th>order_approved_at</th>\n",
              "      <th>order_delivered_carrier_date</th>\n",
              "      <th>order_delivered_customer_date</th>\n",
              "      <th>order_estimated_delivery_date</th>\n",
              "    </tr>\n",
              "  </thead>\n",
              "  <tbody>\n",
              "    <tr>\n",
              "      <th>0</th>\n",
              "      <td>e481f51cbdc54678b7cc49136f2d6af7</td>\n",
              "      <td>9ef432eb6251297304e76186b10a928d</td>\n",
              "      <td>delivered</td>\n",
              "      <td>2017-10-02 10:56:33</td>\n",
              "      <td>2017-10-02 11:07:15</td>\n",
              "      <td>2017-10-04 19:55:00</td>\n",
              "      <td>2017-10-10 21:25:13</td>\n",
              "      <td>2017-10-18 00:00:00</td>\n",
              "    </tr>\n",
              "    <tr>\n",
              "      <th>1</th>\n",
              "      <td>53cdb2fc8bc7dce0b6741e2150273451</td>\n",
              "      <td>b0830fb4747a6c6d20dea0b8c802d7ef</td>\n",
              "      <td>delivered</td>\n",
              "      <td>2018-07-24 20:41:37</td>\n",
              "      <td>2018-07-26 03:24:27</td>\n",
              "      <td>2018-07-26 14:31:00</td>\n",
              "      <td>2018-08-07 15:27:45</td>\n",
              "      <td>2018-08-13 00:00:00</td>\n",
              "    </tr>\n",
              "    <tr>\n",
              "      <th>2</th>\n",
              "      <td>47770eb9100c2d0c44946d9cf07ec65d</td>\n",
              "      <td>41ce2a54c0b03bf3443c3d931a367089</td>\n",
              "      <td>delivered</td>\n",
              "      <td>2018-08-08 08:38:49</td>\n",
              "      <td>2018-08-08 08:55:23</td>\n",
              "      <td>2018-08-08 13:50:00</td>\n",
              "      <td>2018-08-17 18:06:29</td>\n",
              "      <td>2018-09-04 00:00:00</td>\n",
              "    </tr>\n",
              "    <tr>\n",
              "      <th>3</th>\n",
              "      <td>949d5b44dbf5de918fe9c16f97b45f8a</td>\n",
              "      <td>f88197465ea7920adcdbec7375364d82</td>\n",
              "      <td>delivered</td>\n",
              "      <td>2017-11-18 19:28:06</td>\n",
              "      <td>2017-11-18 19:45:59</td>\n",
              "      <td>2017-11-22 13:39:59</td>\n",
              "      <td>2017-12-02 00:28:42</td>\n",
              "      <td>2017-12-15 00:00:00</td>\n",
              "    </tr>\n",
              "    <tr>\n",
              "      <th>4</th>\n",
              "      <td>ad21c59c0840e6cb83a9ceb5573f8159</td>\n",
              "      <td>8ab97904e6daea8866dbdbc4fb7aad2c</td>\n",
              "      <td>delivered</td>\n",
              "      <td>2018-02-13 21:18:39</td>\n",
              "      <td>2018-02-13 22:20:29</td>\n",
              "      <td>2018-02-14 19:46:34</td>\n",
              "      <td>2018-02-16 18:17:02</td>\n",
              "      <td>2018-02-26 00:00:00</td>\n",
              "    </tr>\n",
              "  </tbody>\n",
              "</table>\n",
              "</div>"
            ],
            "text/plain": [
              "                           order_id                       customer_id  \\\n",
              "0  e481f51cbdc54678b7cc49136f2d6af7  9ef432eb6251297304e76186b10a928d   \n",
              "1  53cdb2fc8bc7dce0b6741e2150273451  b0830fb4747a6c6d20dea0b8c802d7ef   \n",
              "2  47770eb9100c2d0c44946d9cf07ec65d  41ce2a54c0b03bf3443c3d931a367089   \n",
              "3  949d5b44dbf5de918fe9c16f97b45f8a  f88197465ea7920adcdbec7375364d82   \n",
              "4  ad21c59c0840e6cb83a9ceb5573f8159  8ab97904e6daea8866dbdbc4fb7aad2c   \n",
              "\n",
              "  order_status order_purchase_timestamp    order_approved_at  \\\n",
              "0    delivered      2017-10-02 10:56:33  2017-10-02 11:07:15   \n",
              "1    delivered      2018-07-24 20:41:37  2018-07-26 03:24:27   \n",
              "2    delivered      2018-08-08 08:38:49  2018-08-08 08:55:23   \n",
              "3    delivered      2017-11-18 19:28:06  2017-11-18 19:45:59   \n",
              "4    delivered      2018-02-13 21:18:39  2018-02-13 22:20:29   \n",
              "\n",
              "  order_delivered_carrier_date order_delivered_customer_date  \\\n",
              "0          2017-10-04 19:55:00           2017-10-10 21:25:13   \n",
              "1          2018-07-26 14:31:00           2018-08-07 15:27:45   \n",
              "2          2018-08-08 13:50:00           2018-08-17 18:06:29   \n",
              "3          2017-11-22 13:39:59           2017-12-02 00:28:42   \n",
              "4          2018-02-14 19:46:34           2018-02-16 18:17:02   \n",
              "\n",
              "  order_estimated_delivery_date  \n",
              "0           2017-10-18 00:00:00  \n",
              "1           2018-08-13 00:00:00  \n",
              "2           2018-09-04 00:00:00  \n",
              "3           2017-12-15 00:00:00  \n",
              "4           2018-02-26 00:00:00  "
            ]
          },
          "execution_count": 59,
          "metadata": {},
          "output_type": "execute_result"
        }
      ],
      "source": [
        "orders_df.head()"
      ]
    },
    {
      "cell_type": "markdown",
      "metadata": {},
      "source": [
        "Preview of **Order Payments Dataset** (\"order_payments_dataset.csv\")"
      ]
    },
    {
      "cell_type": "code",
      "execution_count": 60,
      "metadata": {},
      "outputs": [
        {
          "data": {
            "text/html": [
              "<div>\n",
              "<style scoped>\n",
              "    .dataframe tbody tr th:only-of-type {\n",
              "        vertical-align: middle;\n",
              "    }\n",
              "\n",
              "    .dataframe tbody tr th {\n",
              "        vertical-align: top;\n",
              "    }\n",
              "\n",
              "    .dataframe thead th {\n",
              "        text-align: right;\n",
              "    }\n",
              "</style>\n",
              "<table border=\"1\" class=\"dataframe\">\n",
              "  <thead>\n",
              "    <tr style=\"text-align: right;\">\n",
              "      <th></th>\n",
              "      <th>order_id</th>\n",
              "      <th>payment_sequential</th>\n",
              "      <th>payment_type</th>\n",
              "      <th>payment_installments</th>\n",
              "      <th>payment_value</th>\n",
              "    </tr>\n",
              "  </thead>\n",
              "  <tbody>\n",
              "    <tr>\n",
              "      <th>0</th>\n",
              "      <td>b81ef226f3fe1789b1e8b2acac839d17</td>\n",
              "      <td>1</td>\n",
              "      <td>credit_card</td>\n",
              "      <td>8</td>\n",
              "      <td>99.33</td>\n",
              "    </tr>\n",
              "    <tr>\n",
              "      <th>1</th>\n",
              "      <td>a9810da82917af2d9aefd1278f1dcfa0</td>\n",
              "      <td>1</td>\n",
              "      <td>credit_card</td>\n",
              "      <td>1</td>\n",
              "      <td>24.39</td>\n",
              "    </tr>\n",
              "    <tr>\n",
              "      <th>2</th>\n",
              "      <td>25e8ea4e93396b6fa0d3dd708e76c1bd</td>\n",
              "      <td>1</td>\n",
              "      <td>credit_card</td>\n",
              "      <td>1</td>\n",
              "      <td>65.71</td>\n",
              "    </tr>\n",
              "    <tr>\n",
              "      <th>3</th>\n",
              "      <td>ba78997921bbcdc1373bb41e913ab953</td>\n",
              "      <td>1</td>\n",
              "      <td>credit_card</td>\n",
              "      <td>8</td>\n",
              "      <td>107.78</td>\n",
              "    </tr>\n",
              "    <tr>\n",
              "      <th>4</th>\n",
              "      <td>42fdf880ba16b47b59251dd489d4441a</td>\n",
              "      <td>1</td>\n",
              "      <td>credit_card</td>\n",
              "      <td>2</td>\n",
              "      <td>128.45</td>\n",
              "    </tr>\n",
              "  </tbody>\n",
              "</table>\n",
              "</div>"
            ],
            "text/plain": [
              "                           order_id  payment_sequential payment_type  \\\n",
              "0  b81ef226f3fe1789b1e8b2acac839d17                   1  credit_card   \n",
              "1  a9810da82917af2d9aefd1278f1dcfa0                   1  credit_card   \n",
              "2  25e8ea4e93396b6fa0d3dd708e76c1bd                   1  credit_card   \n",
              "3  ba78997921bbcdc1373bb41e913ab953                   1  credit_card   \n",
              "4  42fdf880ba16b47b59251dd489d4441a                   1  credit_card   \n",
              "\n",
              "   payment_installments  payment_value  \n",
              "0                     8          99.33  \n",
              "1                     1          24.39  \n",
              "2                     1          65.71  \n",
              "3                     8         107.78  \n",
              "4                     2         128.45  "
            ]
          },
          "execution_count": 60,
          "metadata": {},
          "output_type": "execute_result"
        }
      ],
      "source": [
        "payments_df.head()"
      ]
    },
    {
      "cell_type": "markdown",
      "metadata": {},
      "source": [
        "Preview of **Customers Dataset** (\"customers_dataset.csv\")"
      ]
    },
    {
      "cell_type": "code",
      "execution_count": 61,
      "metadata": {},
      "outputs": [
        {
          "data": {
            "text/html": [
              "<div>\n",
              "<style scoped>\n",
              "    .dataframe tbody tr th:only-of-type {\n",
              "        vertical-align: middle;\n",
              "    }\n",
              "\n",
              "    .dataframe tbody tr th {\n",
              "        vertical-align: top;\n",
              "    }\n",
              "\n",
              "    .dataframe thead th {\n",
              "        text-align: right;\n",
              "    }\n",
              "</style>\n",
              "<table border=\"1\" class=\"dataframe\">\n",
              "  <thead>\n",
              "    <tr style=\"text-align: right;\">\n",
              "      <th></th>\n",
              "      <th>customer_id</th>\n",
              "      <th>customer_unique_id</th>\n",
              "      <th>customer_zip_code_prefix</th>\n",
              "      <th>customer_city</th>\n",
              "      <th>customer_state</th>\n",
              "    </tr>\n",
              "  </thead>\n",
              "  <tbody>\n",
              "    <tr>\n",
              "      <th>0</th>\n",
              "      <td>06b8999e2fba1a1fbc88172c00ba8bc7</td>\n",
              "      <td>861eff4711a542e4b93843c6dd7febb0</td>\n",
              "      <td>14409</td>\n",
              "      <td>franca</td>\n",
              "      <td>SP</td>\n",
              "    </tr>\n",
              "    <tr>\n",
              "      <th>1</th>\n",
              "      <td>18955e83d337fd6b2def6b18a428ac77</td>\n",
              "      <td>290c77bc529b7ac935b93aa66c333dc3</td>\n",
              "      <td>9790</td>\n",
              "      <td>sao bernardo do campo</td>\n",
              "      <td>SP</td>\n",
              "    </tr>\n",
              "    <tr>\n",
              "      <th>2</th>\n",
              "      <td>4e7b3e00288586ebd08712fdd0374a03</td>\n",
              "      <td>060e732b5b29e8181a18229c7b0b2b5e</td>\n",
              "      <td>1151</td>\n",
              "      <td>sao paulo</td>\n",
              "      <td>SP</td>\n",
              "    </tr>\n",
              "    <tr>\n",
              "      <th>3</th>\n",
              "      <td>b2b6027bc5c5109e529d4dc6358b12c3</td>\n",
              "      <td>259dac757896d24d7702b9acbbff3f3c</td>\n",
              "      <td>8775</td>\n",
              "      <td>mogi das cruzes</td>\n",
              "      <td>SP</td>\n",
              "    </tr>\n",
              "    <tr>\n",
              "      <th>4</th>\n",
              "      <td>4f2d8ab171c80ec8364f7c12e35b23ad</td>\n",
              "      <td>345ecd01c38d18a9036ed96c73b8d066</td>\n",
              "      <td>13056</td>\n",
              "      <td>campinas</td>\n",
              "      <td>SP</td>\n",
              "    </tr>\n",
              "  </tbody>\n",
              "</table>\n",
              "</div>"
            ],
            "text/plain": [
              "                        customer_id                customer_unique_id  \\\n",
              "0  06b8999e2fba1a1fbc88172c00ba8bc7  861eff4711a542e4b93843c6dd7febb0   \n",
              "1  18955e83d337fd6b2def6b18a428ac77  290c77bc529b7ac935b93aa66c333dc3   \n",
              "2  4e7b3e00288586ebd08712fdd0374a03  060e732b5b29e8181a18229c7b0b2b5e   \n",
              "3  b2b6027bc5c5109e529d4dc6358b12c3  259dac757896d24d7702b9acbbff3f3c   \n",
              "4  4f2d8ab171c80ec8364f7c12e35b23ad  345ecd01c38d18a9036ed96c73b8d066   \n",
              "\n",
              "   customer_zip_code_prefix          customer_city customer_state  \n",
              "0                     14409                 franca             SP  \n",
              "1                      9790  sao bernardo do campo             SP  \n",
              "2                      1151              sao paulo             SP  \n",
              "3                      8775        mogi das cruzes             SP  \n",
              "4                     13056               campinas             SP  "
            ]
          },
          "execution_count": 61,
          "metadata": {},
          "output_type": "execute_result"
        }
      ],
      "source": [
        "customers_df.head()"
      ]
    },
    {
      "cell_type": "markdown",
      "metadata": {},
      "source": [
        "Preview of **Order Items Dataset** (\"order_items_dataset.csv\")"
      ]
    },
    {
      "cell_type": "code",
      "execution_count": 62,
      "metadata": {},
      "outputs": [
        {
          "data": {
            "text/html": [
              "<div>\n",
              "<style scoped>\n",
              "    .dataframe tbody tr th:only-of-type {\n",
              "        vertical-align: middle;\n",
              "    }\n",
              "\n",
              "    .dataframe tbody tr th {\n",
              "        vertical-align: top;\n",
              "    }\n",
              "\n",
              "    .dataframe thead th {\n",
              "        text-align: right;\n",
              "    }\n",
              "</style>\n",
              "<table border=\"1\" class=\"dataframe\">\n",
              "  <thead>\n",
              "    <tr style=\"text-align: right;\">\n",
              "      <th></th>\n",
              "      <th>order_id</th>\n",
              "      <th>order_item_id</th>\n",
              "      <th>product_id</th>\n",
              "      <th>seller_id</th>\n",
              "      <th>shipping_limit_date</th>\n",
              "      <th>price</th>\n",
              "      <th>freight_value</th>\n",
              "    </tr>\n",
              "  </thead>\n",
              "  <tbody>\n",
              "    <tr>\n",
              "      <th>0</th>\n",
              "      <td>00010242fe8c5a6d1ba2dd792cb16214</td>\n",
              "      <td>1</td>\n",
              "      <td>4244733e06e7ecb4970a6e2683c13e61</td>\n",
              "      <td>48436dade18ac8b2bce089ec2a041202</td>\n",
              "      <td>2017-09-19 09:45:35</td>\n",
              "      <td>58.90</td>\n",
              "      <td>13.29</td>\n",
              "    </tr>\n",
              "    <tr>\n",
              "      <th>1</th>\n",
              "      <td>00018f77f2f0320c557190d7a144bdd3</td>\n",
              "      <td>1</td>\n",
              "      <td>e5f2d52b802189ee658865ca93d83a8f</td>\n",
              "      <td>dd7ddc04e1b6c2c614352b383efe2d36</td>\n",
              "      <td>2017-05-03 11:05:13</td>\n",
              "      <td>239.90</td>\n",
              "      <td>19.93</td>\n",
              "    </tr>\n",
              "    <tr>\n",
              "      <th>2</th>\n",
              "      <td>000229ec398224ef6ca0657da4fc703e</td>\n",
              "      <td>1</td>\n",
              "      <td>c777355d18b72b67abbeef9df44fd0fd</td>\n",
              "      <td>5b51032eddd242adc84c38acab88f23d</td>\n",
              "      <td>2018-01-18 14:48:30</td>\n",
              "      <td>199.00</td>\n",
              "      <td>17.87</td>\n",
              "    </tr>\n",
              "    <tr>\n",
              "      <th>3</th>\n",
              "      <td>00024acbcdf0a6daa1e931b038114c75</td>\n",
              "      <td>1</td>\n",
              "      <td>7634da152a4610f1595efa32f14722fc</td>\n",
              "      <td>9d7a1d34a5052409006425275ba1c2b4</td>\n",
              "      <td>2018-08-15 10:10:18</td>\n",
              "      <td>12.99</td>\n",
              "      <td>12.79</td>\n",
              "    </tr>\n",
              "    <tr>\n",
              "      <th>4</th>\n",
              "      <td>00042b26cf59d7ce69dfabb4e55b4fd9</td>\n",
              "      <td>1</td>\n",
              "      <td>ac6c3623068f30de03045865e4e10089</td>\n",
              "      <td>df560393f3a51e74553ab94004ba5c87</td>\n",
              "      <td>2017-02-13 13:57:51</td>\n",
              "      <td>199.90</td>\n",
              "      <td>18.14</td>\n",
              "    </tr>\n",
              "  </tbody>\n",
              "</table>\n",
              "</div>"
            ],
            "text/plain": [
              "                           order_id  order_item_id  \\\n",
              "0  00010242fe8c5a6d1ba2dd792cb16214              1   \n",
              "1  00018f77f2f0320c557190d7a144bdd3              1   \n",
              "2  000229ec398224ef6ca0657da4fc703e              1   \n",
              "3  00024acbcdf0a6daa1e931b038114c75              1   \n",
              "4  00042b26cf59d7ce69dfabb4e55b4fd9              1   \n",
              "\n",
              "                         product_id                         seller_id  \\\n",
              "0  4244733e06e7ecb4970a6e2683c13e61  48436dade18ac8b2bce089ec2a041202   \n",
              "1  e5f2d52b802189ee658865ca93d83a8f  dd7ddc04e1b6c2c614352b383efe2d36   \n",
              "2  c777355d18b72b67abbeef9df44fd0fd  5b51032eddd242adc84c38acab88f23d   \n",
              "3  7634da152a4610f1595efa32f14722fc  9d7a1d34a5052409006425275ba1c2b4   \n",
              "4  ac6c3623068f30de03045865e4e10089  df560393f3a51e74553ab94004ba5c87   \n",
              "\n",
              "   shipping_limit_date   price  freight_value  \n",
              "0  2017-09-19 09:45:35   58.90          13.29  \n",
              "1  2017-05-03 11:05:13  239.90          19.93  \n",
              "2  2018-01-18 14:48:30  199.00          17.87  \n",
              "3  2018-08-15 10:10:18   12.99          12.79  \n",
              "4  2017-02-13 13:57:51  199.90          18.14  "
            ]
          },
          "execution_count": 62,
          "metadata": {},
          "output_type": "execute_result"
        }
      ],
      "source": [
        "items_df.head()"
      ]
    },
    {
      "cell_type": "markdown",
      "metadata": {},
      "source": [
        "Preview of **Sellers Dataset** (\"sellers_dataset.csv\")"
      ]
    },
    {
      "cell_type": "code",
      "execution_count": 63,
      "metadata": {},
      "outputs": [
        {
          "data": {
            "text/html": [
              "<div>\n",
              "<style scoped>\n",
              "    .dataframe tbody tr th:only-of-type {\n",
              "        vertical-align: middle;\n",
              "    }\n",
              "\n",
              "    .dataframe tbody tr th {\n",
              "        vertical-align: top;\n",
              "    }\n",
              "\n",
              "    .dataframe thead th {\n",
              "        text-align: right;\n",
              "    }\n",
              "</style>\n",
              "<table border=\"1\" class=\"dataframe\">\n",
              "  <thead>\n",
              "    <tr style=\"text-align: right;\">\n",
              "      <th></th>\n",
              "      <th>seller_id</th>\n",
              "      <th>seller_zip_code_prefix</th>\n",
              "      <th>seller_city</th>\n",
              "      <th>seller_state</th>\n",
              "    </tr>\n",
              "  </thead>\n",
              "  <tbody>\n",
              "    <tr>\n",
              "      <th>0</th>\n",
              "      <td>3442f8959a84dea7ee197c632cb2df15</td>\n",
              "      <td>13023</td>\n",
              "      <td>campinas</td>\n",
              "      <td>SP</td>\n",
              "    </tr>\n",
              "    <tr>\n",
              "      <th>1</th>\n",
              "      <td>d1b65fc7debc3361ea86b5f14c68d2e2</td>\n",
              "      <td>13844</td>\n",
              "      <td>mogi guacu</td>\n",
              "      <td>SP</td>\n",
              "    </tr>\n",
              "    <tr>\n",
              "      <th>2</th>\n",
              "      <td>ce3ad9de960102d0677a81f5d0bb7b2d</td>\n",
              "      <td>20031</td>\n",
              "      <td>rio de janeiro</td>\n",
              "      <td>RJ</td>\n",
              "    </tr>\n",
              "    <tr>\n",
              "      <th>3</th>\n",
              "      <td>c0f3eea2e14555b6faeea3dd58c1b1c3</td>\n",
              "      <td>4195</td>\n",
              "      <td>sao paulo</td>\n",
              "      <td>SP</td>\n",
              "    </tr>\n",
              "    <tr>\n",
              "      <th>4</th>\n",
              "      <td>51a04a8a6bdcb23deccc82b0b80742cf</td>\n",
              "      <td>12914</td>\n",
              "      <td>braganca paulista</td>\n",
              "      <td>SP</td>\n",
              "    </tr>\n",
              "  </tbody>\n",
              "</table>\n",
              "</div>"
            ],
            "text/plain": [
              "                          seller_id  seller_zip_code_prefix  \\\n",
              "0  3442f8959a84dea7ee197c632cb2df15                   13023   \n",
              "1  d1b65fc7debc3361ea86b5f14c68d2e2                   13844   \n",
              "2  ce3ad9de960102d0677a81f5d0bb7b2d                   20031   \n",
              "3  c0f3eea2e14555b6faeea3dd58c1b1c3                    4195   \n",
              "4  51a04a8a6bdcb23deccc82b0b80742cf                   12914   \n",
              "\n",
              "         seller_city seller_state  \n",
              "0           campinas           SP  \n",
              "1         mogi guacu           SP  \n",
              "2     rio de janeiro           RJ  \n",
              "3          sao paulo           SP  \n",
              "4  braganca paulista           SP  "
            ]
          },
          "execution_count": 63,
          "metadata": {},
          "output_type": "execute_result"
        }
      ],
      "source": [
        "sellers_df.head()"
      ]
    },
    {
      "cell_type": "markdown",
      "metadata": {},
      "source": [
        "#### **Step 4:** Displaying the data needed for each business question.\n",
        "##### Objective: To provide a clear mapping of the data required for each question in the form of a table."
      ]
    },
    {
      "cell_type": "markdown",
      "metadata": {},
      "source": [
        "Data Frame of Company's Sales and Revenue Performance"
      ]
    },
    {
      "cell_type": "code",
      "execution_count": 64,
      "metadata": {},
      "outputs": [
        {
          "data": {
            "text/html": [
              "<div>\n",
              "<style scoped>\n",
              "    .dataframe tbody tr th:only-of-type {\n",
              "        vertical-align: middle;\n",
              "    }\n",
              "\n",
              "    .dataframe tbody tr th {\n",
              "        vertical-align: top;\n",
              "    }\n",
              "\n",
              "    .dataframe thead th {\n",
              "        text-align: right;\n",
              "    }\n",
              "</style>\n",
              "<table border=\"1\" class=\"dataframe\">\n",
              "  <thead>\n",
              "    <tr style=\"text-align: right;\">\n",
              "      <th></th>\n",
              "      <th>order_id</th>\n",
              "      <th>order_delivered_carrier_date</th>\n",
              "      <th>order_delivered_customer_date</th>\n",
              "      <th>order_estimated_delivery_date</th>\n",
              "      <th>payment_value</th>\n",
              "    </tr>\n",
              "  </thead>\n",
              "  <tbody>\n",
              "    <tr>\n",
              "      <th>0</th>\n",
              "      <td>e481f51cbdc54678b7cc49136f2d6af7</td>\n",
              "      <td>2017-10-04 19:55:00</td>\n",
              "      <td>2017-10-10 21:25:13</td>\n",
              "      <td>2017-10-18 00:00:00</td>\n",
              "      <td>18.12</td>\n",
              "    </tr>\n",
              "    <tr>\n",
              "      <th>1</th>\n",
              "      <td>e481f51cbdc54678b7cc49136f2d6af7</td>\n",
              "      <td>2017-10-04 19:55:00</td>\n",
              "      <td>2017-10-10 21:25:13</td>\n",
              "      <td>2017-10-18 00:00:00</td>\n",
              "      <td>2.00</td>\n",
              "    </tr>\n",
              "    <tr>\n",
              "      <th>2</th>\n",
              "      <td>e481f51cbdc54678b7cc49136f2d6af7</td>\n",
              "      <td>2017-10-04 19:55:00</td>\n",
              "      <td>2017-10-10 21:25:13</td>\n",
              "      <td>2017-10-18 00:00:00</td>\n",
              "      <td>18.59</td>\n",
              "    </tr>\n",
              "    <tr>\n",
              "      <th>3</th>\n",
              "      <td>53cdb2fc8bc7dce0b6741e2150273451</td>\n",
              "      <td>2018-07-26 14:31:00</td>\n",
              "      <td>2018-08-07 15:27:45</td>\n",
              "      <td>2018-08-13 00:00:00</td>\n",
              "      <td>141.46</td>\n",
              "    </tr>\n",
              "    <tr>\n",
              "      <th>4</th>\n",
              "      <td>47770eb9100c2d0c44946d9cf07ec65d</td>\n",
              "      <td>2018-08-08 13:50:00</td>\n",
              "      <td>2018-08-17 18:06:29</td>\n",
              "      <td>2018-09-04 00:00:00</td>\n",
              "      <td>179.12</td>\n",
              "    </tr>\n",
              "  </tbody>\n",
              "</table>\n",
              "</div>"
            ],
            "text/plain": [
              "                           order_id order_delivered_carrier_date  \\\n",
              "0  e481f51cbdc54678b7cc49136f2d6af7          2017-10-04 19:55:00   \n",
              "1  e481f51cbdc54678b7cc49136f2d6af7          2017-10-04 19:55:00   \n",
              "2  e481f51cbdc54678b7cc49136f2d6af7          2017-10-04 19:55:00   \n",
              "3  53cdb2fc8bc7dce0b6741e2150273451          2018-07-26 14:31:00   \n",
              "4  47770eb9100c2d0c44946d9cf07ec65d          2018-08-08 13:50:00   \n",
              "\n",
              "  order_delivered_customer_date order_estimated_delivery_date  payment_value  \n",
              "0           2017-10-10 21:25:13           2017-10-18 00:00:00          18.12  \n",
              "1           2017-10-10 21:25:13           2017-10-18 00:00:00           2.00  \n",
              "2           2017-10-10 21:25:13           2017-10-18 00:00:00          18.59  \n",
              "3           2018-08-07 15:27:45           2018-08-13 00:00:00         141.46  \n",
              "4           2018-08-17 18:06:29           2018-09-04 00:00:00         179.12  "
            ]
          },
          "execution_count": 64,
          "metadata": {},
          "output_type": "execute_result"
        }
      ],
      "source": [
        "performa_df = pd.merge(\n",
        "    left = orders_df[[\"order_id\", \"order_delivered_carrier_date\", \"order_delivered_customer_date\", \"order_estimated_delivery_date\"]],\n",
        "    right = payments_df[[\"order_id\", \"payment_value\"]],\n",
        "    how = \"inner\",\n",
        "    left_on = \"order_id\",\n",
        "    right_on = \"order_id\"\n",
        ")\n",
        "performa_df.head()"
      ]
    },
    {
      "cell_type": "markdown",
      "metadata": {},
      "source": [
        "Data Frame of Customer Transaction Locations Distribution"
      ]
    },
    {
      "cell_type": "code",
      "execution_count": 65,
      "metadata": {},
      "outputs": [
        {
          "data": {
            "text/html": [
              "<div>\n",
              "<style scoped>\n",
              "    .dataframe tbody tr th:only-of-type {\n",
              "        vertical-align: middle;\n",
              "    }\n",
              "\n",
              "    .dataframe tbody tr th {\n",
              "        vertical-align: top;\n",
              "    }\n",
              "\n",
              "    .dataframe thead th {\n",
              "        text-align: right;\n",
              "    }\n",
              "</style>\n",
              "<table border=\"1\" class=\"dataframe\">\n",
              "  <thead>\n",
              "    <tr style=\"text-align: right;\">\n",
              "      <th></th>\n",
              "      <th>customer_id</th>\n",
              "      <th>customer_unique_id</th>\n",
              "      <th>customer_zip_code_prefix</th>\n",
              "      <th>customer_city</th>\n",
              "      <th>customer_state</th>\n",
              "    </tr>\n",
              "  </thead>\n",
              "  <tbody>\n",
              "    <tr>\n",
              "      <th>0</th>\n",
              "      <td>06b8999e2fba1a1fbc88172c00ba8bc7</td>\n",
              "      <td>861eff4711a542e4b93843c6dd7febb0</td>\n",
              "      <td>14409</td>\n",
              "      <td>franca</td>\n",
              "      <td>SP</td>\n",
              "    </tr>\n",
              "    <tr>\n",
              "      <th>1</th>\n",
              "      <td>18955e83d337fd6b2def6b18a428ac77</td>\n",
              "      <td>290c77bc529b7ac935b93aa66c333dc3</td>\n",
              "      <td>9790</td>\n",
              "      <td>sao bernardo do campo</td>\n",
              "      <td>SP</td>\n",
              "    </tr>\n",
              "    <tr>\n",
              "      <th>2</th>\n",
              "      <td>4e7b3e00288586ebd08712fdd0374a03</td>\n",
              "      <td>060e732b5b29e8181a18229c7b0b2b5e</td>\n",
              "      <td>1151</td>\n",
              "      <td>sao paulo</td>\n",
              "      <td>SP</td>\n",
              "    </tr>\n",
              "    <tr>\n",
              "      <th>3</th>\n",
              "      <td>b2b6027bc5c5109e529d4dc6358b12c3</td>\n",
              "      <td>259dac757896d24d7702b9acbbff3f3c</td>\n",
              "      <td>8775</td>\n",
              "      <td>mogi das cruzes</td>\n",
              "      <td>SP</td>\n",
              "    </tr>\n",
              "    <tr>\n",
              "      <th>4</th>\n",
              "      <td>4f2d8ab171c80ec8364f7c12e35b23ad</td>\n",
              "      <td>345ecd01c38d18a9036ed96c73b8d066</td>\n",
              "      <td>13056</td>\n",
              "      <td>campinas</td>\n",
              "      <td>SP</td>\n",
              "    </tr>\n",
              "  </tbody>\n",
              "</table>\n",
              "</div>"
            ],
            "text/plain": [
              "                        customer_id                customer_unique_id  \\\n",
              "0  06b8999e2fba1a1fbc88172c00ba8bc7  861eff4711a542e4b93843c6dd7febb0   \n",
              "1  18955e83d337fd6b2def6b18a428ac77  290c77bc529b7ac935b93aa66c333dc3   \n",
              "2  4e7b3e00288586ebd08712fdd0374a03  060e732b5b29e8181a18229c7b0b2b5e   \n",
              "3  b2b6027bc5c5109e529d4dc6358b12c3  259dac757896d24d7702b9acbbff3f3c   \n",
              "4  4f2d8ab171c80ec8364f7c12e35b23ad  345ecd01c38d18a9036ed96c73b8d066   \n",
              "\n",
              "   customer_zip_code_prefix          customer_city customer_state  \n",
              "0                     14409                 franca             SP  \n",
              "1                      9790  sao bernardo do campo             SP  \n",
              "2                      1151              sao paulo             SP  \n",
              "3                      8775        mogi das cruzes             SP  \n",
              "4                     13056               campinas             SP  "
            ]
          },
          "execution_count": 65,
          "metadata": {},
          "output_type": "execute_result"
        }
      ],
      "source": [
        "customers_df.head()"
      ]
    },
    {
      "cell_type": "markdown",
      "metadata": {},
      "source": [
        "Data Frame of Customer and Seller Locations Based on Order ID.  \n",
        "**Note:** The merging of data frames is performed incrementally to achieve the desired objective, specifically to derive the relationship between customer and seller locations involved in transactions."
      ]
    },
    {
      "cell_type": "code",
      "execution_count": 66,
      "metadata": {},
      "outputs": [
        {
          "data": {
            "text/html": [
              "<div>\n",
              "<style scoped>\n",
              "    .dataframe tbody tr th:only-of-type {\n",
              "        vertical-align: middle;\n",
              "    }\n",
              "\n",
              "    .dataframe tbody tr th {\n",
              "        vertical-align: top;\n",
              "    }\n",
              "\n",
              "    .dataframe thead th {\n",
              "        text-align: right;\n",
              "    }\n",
              "</style>\n",
              "<table border=\"1\" class=\"dataframe\">\n",
              "  <thead>\n",
              "    <tr style=\"text-align: right;\">\n",
              "      <th></th>\n",
              "      <th>customer_id</th>\n",
              "      <th>customer_city</th>\n",
              "      <th>order_id</th>\n",
              "      <th>order_delivered_carrier_date</th>\n",
              "      <th>order_delivered_customer_date</th>\n",
              "      <th>order_estimated_delivery_date</th>\n",
              "      <th>seller_id</th>\n",
              "      <th>seller_city</th>\n",
              "    </tr>\n",
              "  </thead>\n",
              "  <tbody>\n",
              "    <tr>\n",
              "      <th>0</th>\n",
              "      <td>06b8999e2fba1a1fbc88172c00ba8bc7</td>\n",
              "      <td>franca</td>\n",
              "      <td>00e7ee1b050b8499577073aeb2a297a1</td>\n",
              "      <td>2017-05-23 10:47:57</td>\n",
              "      <td>2017-05-25 10:35:35</td>\n",
              "      <td>2017-06-05 00:00:00</td>\n",
              "      <td>7c67e1448b00f6e969d365cea6b010ab</td>\n",
              "      <td>itaquaquecetuba</td>\n",
              "    </tr>\n",
              "    <tr>\n",
              "      <th>1</th>\n",
              "      <td>18955e83d337fd6b2def6b18a428ac77</td>\n",
              "      <td>sao bernardo do campo</td>\n",
              "      <td>29150127e6685892b6eab3eec79f59c7</td>\n",
              "      <td>2018-01-15 17:14:59</td>\n",
              "      <td>2018-01-29 12:41:19</td>\n",
              "      <td>2018-02-06 00:00:00</td>\n",
              "      <td>b8bc237ba3788b23da09c0f1f3a3288c</td>\n",
              "      <td>itajai</td>\n",
              "    </tr>\n",
              "    <tr>\n",
              "      <th>2</th>\n",
              "      <td>4e7b3e00288586ebd08712fdd0374a03</td>\n",
              "      <td>sao paulo</td>\n",
              "      <td>b2059ed67ce144a36e2aa97d2c9e9ad2</td>\n",
              "      <td>2018-06-11 14:31:00</td>\n",
              "      <td>2018-06-14 17:58:51</td>\n",
              "      <td>2018-06-13 00:00:00</td>\n",
              "      <td>7c67e1448b00f6e969d365cea6b010ab</td>\n",
              "      <td>itaquaquecetuba</td>\n",
              "    </tr>\n",
              "    <tr>\n",
              "      <th>3</th>\n",
              "      <td>b2b6027bc5c5109e529d4dc6358b12c3</td>\n",
              "      <td>mogi das cruzes</td>\n",
              "      <td>951670f92359f4fe4a63112aa7306eba</td>\n",
              "      <td>2018-03-27 23:22:42</td>\n",
              "      <td>2018-03-28 16:04:25</td>\n",
              "      <td>2018-04-10 00:00:00</td>\n",
              "      <td>7c67e1448b00f6e969d365cea6b010ab</td>\n",
              "      <td>itaquaquecetuba</td>\n",
              "    </tr>\n",
              "    <tr>\n",
              "      <th>4</th>\n",
              "      <td>4f2d8ab171c80ec8364f7c12e35b23ad</td>\n",
              "      <td>campinas</td>\n",
              "      <td>6b7d50bd145f6fc7f33cebabd7e49d0f</td>\n",
              "      <td>2018-07-30 15:16:00</td>\n",
              "      <td>2018-08-09 20:55:48</td>\n",
              "      <td>2018-08-15 00:00:00</td>\n",
              "      <td>4a3ca9315b744ce9f8e9374361493884</td>\n",
              "      <td>ibitinga</td>\n",
              "    </tr>\n",
              "  </tbody>\n",
              "</table>\n",
              "</div>"
            ],
            "text/plain": [
              "                        customer_id          customer_city  \\\n",
              "0  06b8999e2fba1a1fbc88172c00ba8bc7                 franca   \n",
              "1  18955e83d337fd6b2def6b18a428ac77  sao bernardo do campo   \n",
              "2  4e7b3e00288586ebd08712fdd0374a03              sao paulo   \n",
              "3  b2b6027bc5c5109e529d4dc6358b12c3        mogi das cruzes   \n",
              "4  4f2d8ab171c80ec8364f7c12e35b23ad               campinas   \n",
              "\n",
              "                           order_id order_delivered_carrier_date  \\\n",
              "0  00e7ee1b050b8499577073aeb2a297a1          2017-05-23 10:47:57   \n",
              "1  29150127e6685892b6eab3eec79f59c7          2018-01-15 17:14:59   \n",
              "2  b2059ed67ce144a36e2aa97d2c9e9ad2          2018-06-11 14:31:00   \n",
              "3  951670f92359f4fe4a63112aa7306eba          2018-03-27 23:22:42   \n",
              "4  6b7d50bd145f6fc7f33cebabd7e49d0f          2018-07-30 15:16:00   \n",
              "\n",
              "  order_delivered_customer_date order_estimated_delivery_date  \\\n",
              "0           2017-05-25 10:35:35           2017-06-05 00:00:00   \n",
              "1           2018-01-29 12:41:19           2018-02-06 00:00:00   \n",
              "2           2018-06-14 17:58:51           2018-06-13 00:00:00   \n",
              "3           2018-03-28 16:04:25           2018-04-10 00:00:00   \n",
              "4           2018-08-09 20:55:48           2018-08-15 00:00:00   \n",
              "\n",
              "                          seller_id      seller_city  \n",
              "0  7c67e1448b00f6e969d365cea6b010ab  itaquaquecetuba  \n",
              "1  b8bc237ba3788b23da09c0f1f3a3288c           itajai  \n",
              "2  7c67e1448b00f6e969d365cea6b010ab  itaquaquecetuba  \n",
              "3  7c67e1448b00f6e969d365cea6b010ab  itaquaquecetuba  \n",
              "4  4a3ca9315b744ce9f8e9374361493884         ibitinga  "
            ]
          },
          "execution_count": 66,
          "metadata": {},
          "output_type": "execute_result"
        }
      ],
      "source": [
        "# Merge customers_df and orders_df based on customer_id\n",
        "combine_custToOrder_df = pd.merge(\n",
        "    left = customers_df[[\"customer_id\", \"customer_city\"]],\n",
        "    right = orders_df[[\"customer_id\",\"order_id\",\"order_delivered_carrier_date\", \"order_delivered_customer_date\", \"order_estimated_delivery_date\"]],\n",
        "    how = \"inner\",\n",
        "    on = \"customer_id\"\n",
        ")\n",
        "# Merge previous data frame and items_df based on order_id\n",
        "combine_ToItems_df = pd.merge(\n",
        "    left = combine_custToOrder_df,\n",
        "    right = items_df[[\"order_id\",\"seller_id\"]],\n",
        "    how = \"inner\",\n",
        "    on = \"order_id\"\n",
        ")\n",
        "# Merge previous data frame and sellers_df based on seller_id\n",
        "combine_ToSellers_df = pd.merge(\n",
        "    left = combine_ToItems_df,\n",
        "    right = sellers_df[[\"seller_id\",\"seller_city\"]],\n",
        "    how = \"inner\",\n",
        "    on = \"seller_id\"\n",
        ")\n",
        "custSellerLoc_df = combine_ToSellers_df\n",
        "custSellerLoc_df.head()"
      ]
    },
    {
      "cell_type": "markdown",
      "metadata": {},
      "source": [
        "#### **Step 5:** Combining all data frames from Step 4.\n",
        "##### Objective: To streamline data access and ensure consistency in the data used for each business question.\n",
        "**Note:** The customer data required to answer question 2 is included in custSellerLoc_df, so only the tables for questions 1 and 3 need to be merged."
      ]
    },
    {
      "cell_type": "code",
      "execution_count": 67,
      "metadata": {},
      "outputs": [
        {
          "data": {
            "text/html": [
              "<div>\n",
              "<style scoped>\n",
              "    .dataframe tbody tr th:only-of-type {\n",
              "        vertical-align: middle;\n",
              "    }\n",
              "\n",
              "    .dataframe tbody tr th {\n",
              "        vertical-align: top;\n",
              "    }\n",
              "\n",
              "    .dataframe thead th {\n",
              "        text-align: right;\n",
              "    }\n",
              "</style>\n",
              "<table border=\"1\" class=\"dataframe\">\n",
              "  <thead>\n",
              "    <tr style=\"text-align: right;\">\n",
              "      <th></th>\n",
              "      <th>order_id</th>\n",
              "      <th>order_delivered_carrier_date</th>\n",
              "      <th>order_delivered_customer_date</th>\n",
              "      <th>order_estimated_delivery_date</th>\n",
              "      <th>payment_value</th>\n",
              "      <th>customer_id</th>\n",
              "      <th>customer_city</th>\n",
              "      <th>seller_id</th>\n",
              "      <th>seller_city</th>\n",
              "    </tr>\n",
              "  </thead>\n",
              "  <tbody>\n",
              "    <tr>\n",
              "      <th>0</th>\n",
              "      <td>e481f51cbdc54678b7cc49136f2d6af7</td>\n",
              "      <td>2017-10-04 19:55:00</td>\n",
              "      <td>2017-10-10 21:25:13</td>\n",
              "      <td>2017-10-18 00:00:00</td>\n",
              "      <td>18.12</td>\n",
              "      <td>9ef432eb6251297304e76186b10a928d</td>\n",
              "      <td>sao paulo</td>\n",
              "      <td>3504c0cb71d7fa48d967e0e4c94d59d9</td>\n",
              "      <td>maua</td>\n",
              "    </tr>\n",
              "    <tr>\n",
              "      <th>1</th>\n",
              "      <td>e481f51cbdc54678b7cc49136f2d6af7</td>\n",
              "      <td>2017-10-04 19:55:00</td>\n",
              "      <td>2017-10-10 21:25:13</td>\n",
              "      <td>2017-10-18 00:00:00</td>\n",
              "      <td>2.00</td>\n",
              "      <td>9ef432eb6251297304e76186b10a928d</td>\n",
              "      <td>sao paulo</td>\n",
              "      <td>3504c0cb71d7fa48d967e0e4c94d59d9</td>\n",
              "      <td>maua</td>\n",
              "    </tr>\n",
              "    <tr>\n",
              "      <th>2</th>\n",
              "      <td>e481f51cbdc54678b7cc49136f2d6af7</td>\n",
              "      <td>2017-10-04 19:55:00</td>\n",
              "      <td>2017-10-10 21:25:13</td>\n",
              "      <td>2017-10-18 00:00:00</td>\n",
              "      <td>18.59</td>\n",
              "      <td>9ef432eb6251297304e76186b10a928d</td>\n",
              "      <td>sao paulo</td>\n",
              "      <td>3504c0cb71d7fa48d967e0e4c94d59d9</td>\n",
              "      <td>maua</td>\n",
              "    </tr>\n",
              "    <tr>\n",
              "      <th>3</th>\n",
              "      <td>53cdb2fc8bc7dce0b6741e2150273451</td>\n",
              "      <td>2018-07-26 14:31:00</td>\n",
              "      <td>2018-08-07 15:27:45</td>\n",
              "      <td>2018-08-13 00:00:00</td>\n",
              "      <td>141.46</td>\n",
              "      <td>b0830fb4747a6c6d20dea0b8c802d7ef</td>\n",
              "      <td>barreiras</td>\n",
              "      <td>289cdb325fb7e7f891c38608bf9e0962</td>\n",
              "      <td>belo horizonte</td>\n",
              "    </tr>\n",
              "    <tr>\n",
              "      <th>4</th>\n",
              "      <td>47770eb9100c2d0c44946d9cf07ec65d</td>\n",
              "      <td>2018-08-08 13:50:00</td>\n",
              "      <td>2018-08-17 18:06:29</td>\n",
              "      <td>2018-09-04 00:00:00</td>\n",
              "      <td>179.12</td>\n",
              "      <td>41ce2a54c0b03bf3443c3d931a367089</td>\n",
              "      <td>vianopolis</td>\n",
              "      <td>4869f7a5dfa277a7dca6462dcf3b52b2</td>\n",
              "      <td>guariba</td>\n",
              "    </tr>\n",
              "  </tbody>\n",
              "</table>\n",
              "</div>"
            ],
            "text/plain": [
              "                           order_id order_delivered_carrier_date  \\\n",
              "0  e481f51cbdc54678b7cc49136f2d6af7          2017-10-04 19:55:00   \n",
              "1  e481f51cbdc54678b7cc49136f2d6af7          2017-10-04 19:55:00   \n",
              "2  e481f51cbdc54678b7cc49136f2d6af7          2017-10-04 19:55:00   \n",
              "3  53cdb2fc8bc7dce0b6741e2150273451          2018-07-26 14:31:00   \n",
              "4  47770eb9100c2d0c44946d9cf07ec65d          2018-08-08 13:50:00   \n",
              "\n",
              "  order_delivered_customer_date order_estimated_delivery_date  payment_value  \\\n",
              "0           2017-10-10 21:25:13           2017-10-18 00:00:00          18.12   \n",
              "1           2017-10-10 21:25:13           2017-10-18 00:00:00           2.00   \n",
              "2           2017-10-10 21:25:13           2017-10-18 00:00:00          18.59   \n",
              "3           2018-08-07 15:27:45           2018-08-13 00:00:00         141.46   \n",
              "4           2018-08-17 18:06:29           2018-09-04 00:00:00         179.12   \n",
              "\n",
              "                        customer_id customer_city  \\\n",
              "0  9ef432eb6251297304e76186b10a928d     sao paulo   \n",
              "1  9ef432eb6251297304e76186b10a928d     sao paulo   \n",
              "2  9ef432eb6251297304e76186b10a928d     sao paulo   \n",
              "3  b0830fb4747a6c6d20dea0b8c802d7ef     barreiras   \n",
              "4  41ce2a54c0b03bf3443c3d931a367089    vianopolis   \n",
              "\n",
              "                          seller_id     seller_city  \n",
              "0  3504c0cb71d7fa48d967e0e4c94d59d9            maua  \n",
              "1  3504c0cb71d7fa48d967e0e4c94d59d9            maua  \n",
              "2  3504c0cb71d7fa48d967e0e4c94d59d9            maua  \n",
              "3  289cdb325fb7e7f891c38608bf9e0962  belo horizonte  \n",
              "4  4869f7a5dfa277a7dca6462dcf3b52b2         guariba  "
            ]
          },
          "execution_count": 67,
          "metadata": {},
          "output_type": "execute_result"
        }
      ],
      "source": [
        "df = pd.merge(\n",
        "    left = performa_df,\n",
        "    # Not all column included to prevent duplicated columns.\n",
        "    right = custSellerLoc_df[[\"order_id\", \"customer_id\", \"customer_city\", \"seller_id\", \"seller_city\"]], \n",
        "    how = \"inner\",\n",
        "    on = \"order_id\",\n",
        ")\n",
        "df.head()"
      ]
    },
    {
      "cell_type": "markdown",
      "metadata": {
        "id": "MMi6xGaDkbCi"
      },
      "source": [
        "**Insights:**\n",
        "- To address the outlined business questions, the required datasets are **orders**, **order payments**, **customers**, **order items**, and **sellers**.\n",
        "- Accordingly, five CSV files are utilized: \"orders_dataset.csv,\" \"order_payments_dataset.csv,\" \"customers_dataset.csv,\" \"order_items_dataset.csv,\" and \"sellers_dataset.csv\". These files are all located in the same folder, named \"data.\"\n",
        "- After reading the files, their contents are displayed to avoid errors in data usage during the analysis process.\n",
        "- The data required for each question is presented in the form of a table (data frame), utilizing the **merge()** function to combine two tables at a time.\n",
        "- Finally, all data frames are merged to simplify data access and ensure consistency in the data used to answer each business question."
      ]
    },
    {
      "cell_type": "markdown",
      "metadata": {
        "id": "FHSiqaZp8DC1"
      },
      "source": [
        "### Assessing Data\n",
        "#### This process involves evaluating the feasibility and quality of the data."
      ]
    },
    {
      "cell_type": "markdown",
      "metadata": {},
      "source": [
        "#### **Step 1:** Displaying information about the **df** data.\n",
        "##### Objective: To examine the data types of each column in the **df** data frame."
      ]
    },
    {
      "cell_type": "code",
      "execution_count": 68,
      "metadata": {},
      "outputs": [
        {
          "name": "stdout",
          "output_type": "stream",
          "text": [
            "<class 'pandas.core.frame.DataFrame'>\n",
            "RangeIndex: 117601 entries, 0 to 117600\n",
            "Data columns (total 9 columns):\n",
            " #   Column                         Non-Null Count   Dtype  \n",
            "---  ------                         --------------   -----  \n",
            " 0   order_id                       117601 non-null  object \n",
            " 1   order_delivered_carrier_date   116356 non-null  object \n",
            " 2   order_delivered_customer_date  115034 non-null  object \n",
            " 3   order_estimated_delivery_date  117601 non-null  object \n",
            " 4   payment_value                  117601 non-null  float64\n",
            " 5   customer_id                    117601 non-null  object \n",
            " 6   customer_city                  117601 non-null  object \n",
            " 7   seller_id                      117601 non-null  object \n",
            " 8   seller_city                    117601 non-null  object \n",
            "dtypes: float64(1), object(8)\n",
            "memory usage: 8.1+ MB\n"
          ]
        }
      ],
      "source": [
        "df.info()"
      ]
    },
    {
      "cell_type": "markdown",
      "metadata": {},
      "source": [
        "#### **Step 2:** Identifying *missing values* in the **df** data.\n",
        "##### Objective: To show the number and location of missing data that needs to be processed during the data cleaning stage."
      ]
    },
    {
      "cell_type": "code",
      "execution_count": 69,
      "metadata": {
        "id": "ax-3tEjc9Cj1"
      },
      "outputs": [
        {
          "data": {
            "text/plain": [
              "order_id                            0\n",
              "order_delivered_carrier_date     1245\n",
              "order_delivered_customer_date    2567\n",
              "order_estimated_delivery_date       0\n",
              "payment_value                       0\n",
              "customer_id                         0\n",
              "customer_city                       0\n",
              "seller_id                           0\n",
              "seller_city                         0\n",
              "dtype: int64"
            ]
          },
          "execution_count": 69,
          "metadata": {},
          "output_type": "execute_result"
        }
      ],
      "source": [
        "df.isna().sum()"
      ]
    },
    {
      "cell_type": "markdown",
      "metadata": {},
      "source": [
        "#### **Step 3:** Identifying *duplicated values* in the **df** data.\n",
        "##### Objective: To show the number of duplicate records that need to be processed during the data cleaning stage."
      ]
    },
    {
      "cell_type": "code",
      "execution_count": 70,
      "metadata": {},
      "outputs": [
        {
          "data": {
            "text/plain": [
              "13720"
            ]
          },
          "execution_count": 70,
          "metadata": {},
          "output_type": "execute_result"
        }
      ],
      "source": [
        "df.duplicated().sum()"
      ]
    },
    {
      "cell_type": "markdown",
      "metadata": {},
      "source": [
        "#### **Step 4:** Identifying *inaccurate values* in the **df** data.\n",
        "##### Objective: To check for values that are not suitable for use and need to be addressed during the data cleaning stage."
      ]
    },
    {
      "cell_type": "code",
      "execution_count": 71,
      "metadata": {},
      "outputs": [
        {
          "data": {
            "text/html": [
              "<div>\n",
              "<style scoped>\n",
              "    .dataframe tbody tr th:only-of-type {\n",
              "        vertical-align: middle;\n",
              "    }\n",
              "\n",
              "    .dataframe tbody tr th {\n",
              "        vertical-align: top;\n",
              "    }\n",
              "\n",
              "    .dataframe thead th {\n",
              "        text-align: right;\n",
              "    }\n",
              "</style>\n",
              "<table border=\"1\" class=\"dataframe\">\n",
              "  <thead>\n",
              "    <tr style=\"text-align: right;\">\n",
              "      <th></th>\n",
              "      <th>payment_value</th>\n",
              "    </tr>\n",
              "  </thead>\n",
              "  <tbody>\n",
              "    <tr>\n",
              "      <th>count</th>\n",
              "      <td>117601.000000</td>\n",
              "    </tr>\n",
              "    <tr>\n",
              "      <th>mean</th>\n",
              "      <td>172.686752</td>\n",
              "    </tr>\n",
              "    <tr>\n",
              "      <th>std</th>\n",
              "      <td>267.592290</td>\n",
              "    </tr>\n",
              "    <tr>\n",
              "      <th>min</th>\n",
              "      <td>0.000000</td>\n",
              "    </tr>\n",
              "    <tr>\n",
              "      <th>25%</th>\n",
              "      <td>60.870000</td>\n",
              "    </tr>\n",
              "    <tr>\n",
              "      <th>50%</th>\n",
              "      <td>108.210000</td>\n",
              "    </tr>\n",
              "    <tr>\n",
              "      <th>75%</th>\n",
              "      <td>189.260000</td>\n",
              "    </tr>\n",
              "    <tr>\n",
              "      <th>max</th>\n",
              "      <td>13664.080000</td>\n",
              "    </tr>\n",
              "  </tbody>\n",
              "</table>\n",
              "</div>"
            ],
            "text/plain": [
              "       payment_value\n",
              "count  117601.000000\n",
              "mean      172.686752\n",
              "std       267.592290\n",
              "min         0.000000\n",
              "25%        60.870000\n",
              "50%       108.210000\n",
              "75%       189.260000\n",
              "max     13664.080000"
            ]
          },
          "execution_count": 71,
          "metadata": {},
          "output_type": "execute_result"
        }
      ],
      "source": [
        "df.describe()"
      ]
    },
    {
      "cell_type": "markdown",
      "metadata": {},
      "source": [
        "**Insights:**\n",
        "- This process evaluates the feasibility of the data. If any data is deemed unsuitable, it will be handled during the cleaning stage.\n",
        "- The process consists of four steps: checking data types, identifying missing values, finding duplicated values, and detecting inaccurate values.\n",
        "- The data type check revealed that the \"order_delivered_customer_date\" field has fewer entries, indicating the presence of missing values. Additionally, the data types for \"order_delivered_carrier_date,\" \"order_delivered_customer_date,\" and \"order_estimated_delivery_date\" should be interpreted as **datetime** instead of object.\n",
        "- The *missing values* check showed that **1,245** entries in \"order_delivered_carrier_date\" and **2,567** entries in \"order_delivered_customer_date\" are missing. These findings align with the information provided earlier.\n",
        "- The *duplicated values* check revealed **13,720** duplicated rows.\n",
        "- The *inaccurate values* check uncovered anomalies, such as a **minimum \"payment_value\" of 0**, which is highly unlikely since transactions generally involve a positive amount."
      ]
    },
    {
      "cell_type": "markdown",
      "metadata": {
        "id": "EhN5R4hr8DC1"
      },
      "source": [
        "### Cleaning Data"
      ]
    },
    {
      "cell_type": "markdown",
      "metadata": {},
      "source": [
        "#### **Step 1:** Addressing *inappropriate data types* in **df**.\n",
        "##### Objective: To ensure all data types in df are appropriate, enabling smooth analysis."
      ]
    },
    {
      "cell_type": "code",
      "execution_count": 72,
      "metadata": {},
      "outputs": [],
      "source": [
        "df['order_delivered_carrier_date'] = pd.to_datetime(df['order_delivered_carrier_date'], errors='coerce')\n",
        "df['order_delivered_customer_date'] = pd.to_datetime(df['order_delivered_customer_date'], errors='coerce')\n",
        "df['order_estimated_delivery_date'] = pd.to_datetime(df['order_estimated_delivery_date'], errors='coerce')"
      ]
    },
    {
      "cell_type": "markdown",
      "metadata": {
        "id": "jVnYpprE9Evz"
      },
      "source": [
        "#### **Step 2:** Removing *duplicate data* in **df**.\n",
        "##### Objective: To eliminate and ensure no duplicate data exists in **df**."
      ]
    },
    {
      "cell_type": "code",
      "execution_count": 73,
      "metadata": {},
      "outputs": [
        {
          "data": {
            "text/plain": [
              "0"
            ]
          },
          "execution_count": 73,
          "metadata": {},
          "output_type": "execute_result"
        }
      ],
      "source": [
        "# Dropping duplicate data\n",
        "df.drop_duplicates(inplace=True)\n",
        "\n",
        "# Recounting the amount of duplicated data\n",
        "df.duplicated().sum()               "
      ]
    },
    {
      "cell_type": "markdown",
      "metadata": {},
      "source": [
        "#### **Step 3:** Handling *missing values* in **df**.\n",
        "##### Objective: To determine the appropriate handling of and address missing values in **df**."
      ]
    },
    {
      "cell_type": "markdown",
      "metadata": {},
      "source": [
        "In this analysis, a product is considered sold only if it has been delivered to the customer. Thus, although there are two variables with missing values, the focus here is on the data indicating the delivery date to the customer.\n",
        "\n",
        "The check for data with missing values produced the following result."
      ]
    },
    {
      "cell_type": "code",
      "execution_count": 74,
      "metadata": {},
      "outputs": [
        {
          "data": {
            "text/html": [
              "<div>\n",
              "<style scoped>\n",
              "    .dataframe tbody tr th:only-of-type {\n",
              "        vertical-align: middle;\n",
              "    }\n",
              "\n",
              "    .dataframe tbody tr th {\n",
              "        vertical-align: top;\n",
              "    }\n",
              "\n",
              "    .dataframe thead th {\n",
              "        text-align: right;\n",
              "    }\n",
              "</style>\n",
              "<table border=\"1\" class=\"dataframe\">\n",
              "  <thead>\n",
              "    <tr style=\"text-align: right;\">\n",
              "      <th></th>\n",
              "      <th>order_id</th>\n",
              "      <th>order_delivered_carrier_date</th>\n",
              "      <th>order_delivered_customer_date</th>\n",
              "      <th>order_estimated_delivery_date</th>\n",
              "      <th>payment_value</th>\n",
              "      <th>customer_id</th>\n",
              "      <th>customer_city</th>\n",
              "      <th>seller_id</th>\n",
              "      <th>seller_city</th>\n",
              "    </tr>\n",
              "  </thead>\n",
              "  <tbody>\n",
              "    <tr>\n",
              "      <th>8</th>\n",
              "      <td>136cce7faa42fdb2cefd53fdc79a6098</td>\n",
              "      <td>NaT</td>\n",
              "      <td>NaT</td>\n",
              "      <td>2017-05-09</td>\n",
              "      <td>65.95</td>\n",
              "      <td>ed0271e0b7da060a393796590e7b737a</td>\n",
              "      <td>santa rosa</td>\n",
              "      <td>dc8798cbf453b7e0f98745e396cc5616</td>\n",
              "      <td>sao paulo</td>\n",
              "    </tr>\n",
              "    <tr>\n",
              "      <th>51</th>\n",
              "      <td>ee64d42b8cf066f35eac1cf57de1aa85</td>\n",
              "      <td>2018-06-05 14:32:00</td>\n",
              "      <td>NaT</td>\n",
              "      <td>2018-06-28</td>\n",
              "      <td>22.36</td>\n",
              "      <td>caded193e8e47b8362864762a83db3c5</td>\n",
              "      <td>jundiai</td>\n",
              "      <td>e9779976487b77c6d4ac45f75ec7afe9</td>\n",
              "      <td>praia grande</td>\n",
              "    </tr>\n",
              "    <tr>\n",
              "      <th>125</th>\n",
              "      <td>0760a852e4e9d89eb77bf631eaaf1c84</td>\n",
              "      <td>NaT</td>\n",
              "      <td>NaT</td>\n",
              "      <td>2018-08-21</td>\n",
              "      <td>50.35</td>\n",
              "      <td>d2a79636084590b7465af8ab374a8cf5</td>\n",
              "      <td>santo amaro da imperatriz</td>\n",
              "      <td>28405831a29823802aa22c084cfd0649</td>\n",
              "      <td>sao paulo</td>\n",
              "    </tr>\n",
              "    <tr>\n",
              "      <th>155</th>\n",
              "      <td>15bed8e2fec7fdbadb186b57c46c92f2</td>\n",
              "      <td>NaT</td>\n",
              "      <td>NaT</td>\n",
              "      <td>2017-10-03</td>\n",
              "      <td>138.28</td>\n",
              "      <td>f3f0e613e0bdb9c7cee75504f0f90679</td>\n",
              "      <td>sao paulo</td>\n",
              "      <td>fa74b2f3287d296e9fbd2cc80f2d1cf1</td>\n",
              "      <td>presidente prudente</td>\n",
              "    </tr>\n",
              "    <tr>\n",
              "      <th>192</th>\n",
              "      <td>6942b8da583c2f9957e990d028607019</td>\n",
              "      <td>2018-01-11 19:39:23</td>\n",
              "      <td>NaT</td>\n",
              "      <td>2018-02-07</td>\n",
              "      <td>69.12</td>\n",
              "      <td>52006a9383bf149a4fb24226b173106f</td>\n",
              "      <td>paracatu</td>\n",
              "      <td>cc419e0650a3c5ba77189a1882b7556a</td>\n",
              "      <td>santo andre</td>\n",
              "    </tr>\n",
              "    <tr>\n",
              "      <th>...</th>\n",
              "      <td>...</td>\n",
              "      <td>...</td>\n",
              "      <td>...</td>\n",
              "      <td>...</td>\n",
              "      <td>...</td>\n",
              "      <td>...</td>\n",
              "      <td>...</td>\n",
              "      <td>...</td>\n",
              "      <td>...</td>\n",
              "    </tr>\n",
              "    <tr>\n",
              "      <th>117214</th>\n",
              "      <td>274a7f7e4f1c17b7434a830e9b8759b1</td>\n",
              "      <td>2018-07-04 13:51:00</td>\n",
              "      <td>NaT</td>\n",
              "      <td>2018-07-24</td>\n",
              "      <td>48.63</td>\n",
              "      <td>670af30ca5b8c20878fecdafa5ee01b9</td>\n",
              "      <td>aracaju</td>\n",
              "      <td>92eb0f42c21942b6552362b9b114707d</td>\n",
              "      <td>sao paulo</td>\n",
              "    </tr>\n",
              "    <tr>\n",
              "      <th>117246</th>\n",
              "      <td>aea0db338150b526dde24f6fd953a5ed</td>\n",
              "      <td>NaT</td>\n",
              "      <td>NaT</td>\n",
              "      <td>2018-01-26</td>\n",
              "      <td>113.34</td>\n",
              "      <td>379a02efdc6a56bd27f99b95fc2f6c06</td>\n",
              "      <td>aquidauana</td>\n",
              "      <td>b2ba3715d723d245138f291a6fe42594</td>\n",
              "      <td>sao paulo</td>\n",
              "    </tr>\n",
              "    <tr>\n",
              "      <th>117255</th>\n",
              "      <td>6560fb10610771449cb0463c5ba12199</td>\n",
              "      <td>NaT</td>\n",
              "      <td>NaT</td>\n",
              "      <td>2017-10-27</td>\n",
              "      <td>333.62</td>\n",
              "      <td>0d07d0a588caf93cc66b7a8aff86d2fe</td>\n",
              "      <td>curitiba</td>\n",
              "      <td>897060da8b9a21f655304d50fd935913</td>\n",
              "      <td>ribeirao preto</td>\n",
              "    </tr>\n",
              "    <tr>\n",
              "      <th>117298</th>\n",
              "      <td>636cdd02667dc8d76d9296bf20a6890a</td>\n",
              "      <td>2018-02-20 19:18:58</td>\n",
              "      <td>NaT</td>\n",
              "      <td>2018-03-14</td>\n",
              "      <td>224.71</td>\n",
              "      <td>c162256b133c76f79181ce61d66545db</td>\n",
              "      <td>taubate</td>\n",
              "      <td>a1043bafd471dff536d0c462352beb48</td>\n",
              "      <td>ilicinea</td>\n",
              "    </tr>\n",
              "    <tr>\n",
              "      <th>117456</th>\n",
              "      <td>e9e64a17afa9653aacf2616d94c005b8</td>\n",
              "      <td>NaT</td>\n",
              "      <td>NaT</td>\n",
              "      <td>2018-02-06</td>\n",
              "      <td>144.56</td>\n",
              "      <td>b4cd0522e632e481f8eaf766a2646e86</td>\n",
              "      <td>campinas</td>\n",
              "      <td>4342d4b2ba6b161468c63a7e7cfce593</td>\n",
              "      <td>rio de janeiro</td>\n",
              "    </tr>\n",
              "  </tbody>\n",
              "</table>\n",
              "<p>2291 rows × 9 columns</p>\n",
              "</div>"
            ],
            "text/plain": [
              "                                order_id order_delivered_carrier_date  \\\n",
              "8       136cce7faa42fdb2cefd53fdc79a6098                          NaT   \n",
              "51      ee64d42b8cf066f35eac1cf57de1aa85          2018-06-05 14:32:00   \n",
              "125     0760a852e4e9d89eb77bf631eaaf1c84                          NaT   \n",
              "155     15bed8e2fec7fdbadb186b57c46c92f2                          NaT   \n",
              "192     6942b8da583c2f9957e990d028607019          2018-01-11 19:39:23   \n",
              "...                                  ...                          ...   \n",
              "117214  274a7f7e4f1c17b7434a830e9b8759b1          2018-07-04 13:51:00   \n",
              "117246  aea0db338150b526dde24f6fd953a5ed                          NaT   \n",
              "117255  6560fb10610771449cb0463c5ba12199                          NaT   \n",
              "117298  636cdd02667dc8d76d9296bf20a6890a          2018-02-20 19:18:58   \n",
              "117456  e9e64a17afa9653aacf2616d94c005b8                          NaT   \n",
              "\n",
              "       order_delivered_customer_date order_estimated_delivery_date  \\\n",
              "8                                NaT                    2017-05-09   \n",
              "51                               NaT                    2018-06-28   \n",
              "125                              NaT                    2018-08-21   \n",
              "155                              NaT                    2017-10-03   \n",
              "192                              NaT                    2018-02-07   \n",
              "...                              ...                           ...   \n",
              "117214                           NaT                    2018-07-24   \n",
              "117246                           NaT                    2018-01-26   \n",
              "117255                           NaT                    2017-10-27   \n",
              "117298                           NaT                    2018-03-14   \n",
              "117456                           NaT                    2018-02-06   \n",
              "\n",
              "        payment_value                       customer_id  \\\n",
              "8               65.95  ed0271e0b7da060a393796590e7b737a   \n",
              "51              22.36  caded193e8e47b8362864762a83db3c5   \n",
              "125             50.35  d2a79636084590b7465af8ab374a8cf5   \n",
              "155            138.28  f3f0e613e0bdb9c7cee75504f0f90679   \n",
              "192             69.12  52006a9383bf149a4fb24226b173106f   \n",
              "...               ...                               ...   \n",
              "117214          48.63  670af30ca5b8c20878fecdafa5ee01b9   \n",
              "117246         113.34  379a02efdc6a56bd27f99b95fc2f6c06   \n",
              "117255         333.62  0d07d0a588caf93cc66b7a8aff86d2fe   \n",
              "117298         224.71  c162256b133c76f79181ce61d66545db   \n",
              "117456         144.56  b4cd0522e632e481f8eaf766a2646e86   \n",
              "\n",
              "                    customer_city                         seller_id  \\\n",
              "8                      santa rosa  dc8798cbf453b7e0f98745e396cc5616   \n",
              "51                        jundiai  e9779976487b77c6d4ac45f75ec7afe9   \n",
              "125     santo amaro da imperatriz  28405831a29823802aa22c084cfd0649   \n",
              "155                     sao paulo  fa74b2f3287d296e9fbd2cc80f2d1cf1   \n",
              "192                      paracatu  cc419e0650a3c5ba77189a1882b7556a   \n",
              "...                           ...                               ...   \n",
              "117214                    aracaju  92eb0f42c21942b6552362b9b114707d   \n",
              "117246                 aquidauana  b2ba3715d723d245138f291a6fe42594   \n",
              "117255                   curitiba  897060da8b9a21f655304d50fd935913   \n",
              "117298                    taubate  a1043bafd471dff536d0c462352beb48   \n",
              "117456                   campinas  4342d4b2ba6b161468c63a7e7cfce593   \n",
              "\n",
              "                seller_city  \n",
              "8                 sao paulo  \n",
              "51             praia grande  \n",
              "125               sao paulo  \n",
              "155     presidente prudente  \n",
              "192             santo andre  \n",
              "...                     ...  \n",
              "117214            sao paulo  \n",
              "117246            sao paulo  \n",
              "117255       ribeirao preto  \n",
              "117298             ilicinea  \n",
              "117456       rio de janeiro  \n",
              "\n",
              "[2291 rows x 9 columns]"
            ]
          },
          "execution_count": 74,
          "metadata": {},
          "output_type": "execute_result"
        }
      ],
      "source": [
        "df[df.order_delivered_customer_date.isna()]"
      ]
    },
    {
      "cell_type": "markdown",
      "metadata": {},
      "source": [
        "It was decided not to drop the affected data because a **significant amount** of information is still valuable. Instead, **imputation** was applied by filling in the missing values with the **estimated delivery dates**. The rationale for this decision is that the \"order_estimated_delivery_date\" field has no missing values and is closely related to the actual delivery date."
      ]
    },
    {
      "cell_type": "code",
      "execution_count": 75,
      "metadata": {},
      "outputs": [
        {
          "name": "stderr",
          "output_type": "stream",
          "text": [
            "C:\\Users\\Grace\\AppData\\Local\\Temp\\ipykernel_25156\\1336736136.py:1: FutureWarning: A value is trying to be set on a copy of a DataFrame or Series through chained assignment using an inplace method.\n",
            "The behavior will change in pandas 3.0. This inplace method will never work because the intermediate object on which we are setting values always behaves as a copy.\n",
            "\n",
            "For example, when doing 'df[col].method(value, inplace=True)', try using 'df.method({col: value}, inplace=True)' or df[col] = df[col].method(value) instead, to perform the operation inplace on the original object.\n",
            "\n",
            "\n",
            "  df['order_delivered_customer_date'].fillna(\n"
          ]
        }
      ],
      "source": [
        "df['order_delivered_customer_date'].fillna(\n",
        "    value=df['order_estimated_delivery_date'], \n",
        "    inplace=True\n",
        ")"
      ]
    },
    {
      "cell_type": "markdown",
      "metadata": {},
      "source": [
        "Afterward, a recheck is carried out to see if there are still missing values in the \"order_delivered_customer_date\" data."
      ]
    },
    {
      "cell_type": "code",
      "execution_count": 76,
      "metadata": {},
      "outputs": [
        {
          "data": {
            "text/plain": [
              "0"
            ]
          },
          "execution_count": 76,
          "metadata": {},
          "output_type": "execute_result"
        }
      ],
      "source": [
        "df.order_delivered_customer_date.isna().sum()"
      ]
    },
    {
      "cell_type": "markdown",
      "metadata": {},
      "source": [
        "The recheck confirmed that no missing values remained in the \"order_delivered_customer_date\" field, allowing the process to proceed to the next stage."
      ]
    },
    {
      "cell_type": "markdown",
      "metadata": {},
      "source": [
        "#### **Step 4:** Handling *inaccurate values* in **df**.\n",
        "##### Objective: To determine the appropriate handling of and address inaccurate values in **df**."
      ]
    },
    {
      "cell_type": "markdown",
      "metadata": {},
      "source": [
        "As previously described in the assessing data section, the inaccurate values in this analysis pertain to \"payment_value,\" which should always be greater than 0.\n",
        "\n",
        "The check for data with inaccurate values produced the following results."
      ]
    },
    {
      "cell_type": "code",
      "execution_count": 77,
      "metadata": {},
      "outputs": [
        {
          "data": {
            "text/html": [
              "<div>\n",
              "<style scoped>\n",
              "    .dataframe tbody tr th:only-of-type {\n",
              "        vertical-align: middle;\n",
              "    }\n",
              "\n",
              "    .dataframe tbody tr th {\n",
              "        vertical-align: top;\n",
              "    }\n",
              "\n",
              "    .dataframe thead th {\n",
              "        text-align: right;\n",
              "    }\n",
              "</style>\n",
              "<table border=\"1\" class=\"dataframe\">\n",
              "  <thead>\n",
              "    <tr style=\"text-align: right;\">\n",
              "      <th></th>\n",
              "      <th>order_id</th>\n",
              "      <th>order_delivered_carrier_date</th>\n",
              "      <th>order_delivered_customer_date</th>\n",
              "      <th>order_estimated_delivery_date</th>\n",
              "      <th>payment_value</th>\n",
              "      <th>customer_id</th>\n",
              "      <th>customer_city</th>\n",
              "      <th>seller_id</th>\n",
              "      <th>seller_city</th>\n",
              "    </tr>\n",
              "  </thead>\n",
              "  <tbody>\n",
              "    <tr>\n",
              "      <th>502</th>\n",
              "      <td>45ed6e85398a87c253db47c2d9f48216</td>\n",
              "      <td>2017-06-09 08:35:18</td>\n",
              "      <td>2017-06-22 17:44:53</td>\n",
              "      <td>2017-07-10</td>\n",
              "      <td>0.0</td>\n",
              "      <td>8eab8f9b3c744b76b65f7a2c0c8f2d6c</td>\n",
              "      <td>goiania</td>\n",
              "      <td>cc419e0650a3c5ba77189a1882b7556a</td>\n",
              "      <td>santo andre</td>\n",
              "    </tr>\n",
              "    <tr>\n",
              "      <th>30662</th>\n",
              "      <td>fa65dad1b0e818e3ccc5cb0e39231352</td>\n",
              "      <td>2017-04-24 11:31:17</td>\n",
              "      <td>2017-05-18 00:00:00</td>\n",
              "      <td>2017-05-18</td>\n",
              "      <td>0.0</td>\n",
              "      <td>9af2372a1e49340278e7c1ef8d749f34</td>\n",
              "      <td>cuiaba</td>\n",
              "      <td>06532f10282704ef4c69168b914b77be</td>\n",
              "      <td>paincandu</td>\n",
              "    </tr>\n",
              "    <tr>\n",
              "      <th>38267</th>\n",
              "      <td>6ccb433e00daae1283ccc956189c82ae</td>\n",
              "      <td>2017-10-27 19:53:03</td>\n",
              "      <td>2017-11-08 18:47:00</td>\n",
              "      <td>2017-11-22</td>\n",
              "      <td>0.0</td>\n",
              "      <td>843b211abe7b0264dd4a69eafc5bdf43</td>\n",
              "      <td>petropolis</td>\n",
              "      <td>da20530872245d6cd9d2f5725613c430</td>\n",
              "      <td>igrejinha</td>\n",
              "    </tr>\n",
              "    <tr>\n",
              "      <th>101309</th>\n",
              "      <td>b23878b3e8eb4d25a158f57d96331b18</td>\n",
              "      <td>2017-05-29 04:49:37</td>\n",
              "      <td>2017-06-07 08:53:10</td>\n",
              "      <td>2017-06-29</td>\n",
              "      <td>0.0</td>\n",
              "      <td>648121b599d98c420ef93f6135f8c80c</td>\n",
              "      <td>anchieta</td>\n",
              "      <td>e49c26c3edfa46d227d5121a6b6e4d37</td>\n",
              "      <td>brejao</td>\n",
              "    </tr>\n",
              "    <tr>\n",
              "      <th>114647</th>\n",
              "      <td>8bcbe01d44d147f901cd3192671144db</td>\n",
              "      <td>2018-01-30 22:43:30</td>\n",
              "      <td>2018-02-02 21:26:42</td>\n",
              "      <td>2018-02-21</td>\n",
              "      <td>0.0</td>\n",
              "      <td>f2def7f64f36952f2f5a9791f0285f34</td>\n",
              "      <td>rio de janeiro</td>\n",
              "      <td>3d871de0142ce09b7081e2b9d1733cb1</td>\n",
              "      <td>campo limpo paulista</td>\n",
              "    </tr>\n",
              "  </tbody>\n",
              "</table>\n",
              "</div>"
            ],
            "text/plain": [
              "                                order_id order_delivered_carrier_date  \\\n",
              "502     45ed6e85398a87c253db47c2d9f48216          2017-06-09 08:35:18   \n",
              "30662   fa65dad1b0e818e3ccc5cb0e39231352          2017-04-24 11:31:17   \n",
              "38267   6ccb433e00daae1283ccc956189c82ae          2017-10-27 19:53:03   \n",
              "101309  b23878b3e8eb4d25a158f57d96331b18          2017-05-29 04:49:37   \n",
              "114647  8bcbe01d44d147f901cd3192671144db          2018-01-30 22:43:30   \n",
              "\n",
              "       order_delivered_customer_date order_estimated_delivery_date  \\\n",
              "502              2017-06-22 17:44:53                    2017-07-10   \n",
              "30662            2017-05-18 00:00:00                    2017-05-18   \n",
              "38267            2017-11-08 18:47:00                    2017-11-22   \n",
              "101309           2017-06-07 08:53:10                    2017-06-29   \n",
              "114647           2018-02-02 21:26:42                    2018-02-21   \n",
              "\n",
              "        payment_value                       customer_id   customer_city  \\\n",
              "502               0.0  8eab8f9b3c744b76b65f7a2c0c8f2d6c         goiania   \n",
              "30662             0.0  9af2372a1e49340278e7c1ef8d749f34          cuiaba   \n",
              "38267             0.0  843b211abe7b0264dd4a69eafc5bdf43      petropolis   \n",
              "101309            0.0  648121b599d98c420ef93f6135f8c80c        anchieta   \n",
              "114647            0.0  f2def7f64f36952f2f5a9791f0285f34  rio de janeiro   \n",
              "\n",
              "                               seller_id           seller_city  \n",
              "502     cc419e0650a3c5ba77189a1882b7556a           santo andre  \n",
              "30662   06532f10282704ef4c69168b914b77be             paincandu  \n",
              "38267   da20530872245d6cd9d2f5725613c430             igrejinha  \n",
              "101309  e49c26c3edfa46d227d5121a6b6e4d37                brejao  \n",
              "114647  3d871de0142ce09b7081e2b9d1733cb1  campo limpo paulista  "
            ]
          },
          "execution_count": 77,
          "metadata": {},
          "output_type": "execute_result"
        }
      ],
      "source": [
        "df[df.payment_value == df.payment_value.min()]"
      ]
    },
    {
      "cell_type": "markdown",
      "metadata": {},
      "source": [
        "Since the amount of inaccurate values is **minimal** compared to the total dataset, it was decided to **drop** these data."
      ]
    },
    {
      "cell_type": "code",
      "execution_count": 78,
      "metadata": {},
      "outputs": [],
      "source": [
        "df.drop(df[df.payment_value == 0].index, inplace=True)"
      ]
    },
    {
      "cell_type": "markdown",
      "metadata": {},
      "source": [
        "Afterward, a recheck is carried out to see if there are still inaccurate values in the \"order_delivered_customer_date\" data."
      ]
    },
    {
      "cell_type": "code",
      "execution_count": 79,
      "metadata": {},
      "outputs": [
        {
          "data": {
            "text/html": [
              "<div>\n",
              "<style scoped>\n",
              "    .dataframe tbody tr th:only-of-type {\n",
              "        vertical-align: middle;\n",
              "    }\n",
              "\n",
              "    .dataframe tbody tr th {\n",
              "        vertical-align: top;\n",
              "    }\n",
              "\n",
              "    .dataframe thead th {\n",
              "        text-align: right;\n",
              "    }\n",
              "</style>\n",
              "<table border=\"1\" class=\"dataframe\">\n",
              "  <thead>\n",
              "    <tr style=\"text-align: right;\">\n",
              "      <th></th>\n",
              "      <th>order_id</th>\n",
              "      <th>order_delivered_carrier_date</th>\n",
              "      <th>order_delivered_customer_date</th>\n",
              "      <th>order_estimated_delivery_date</th>\n",
              "      <th>payment_value</th>\n",
              "      <th>customer_id</th>\n",
              "      <th>customer_city</th>\n",
              "      <th>seller_id</th>\n",
              "      <th>seller_city</th>\n",
              "    </tr>\n",
              "  </thead>\n",
              "  <tbody>\n",
              "  </tbody>\n",
              "</table>\n",
              "</div>"
            ],
            "text/plain": [
              "Empty DataFrame\n",
              "Columns: [order_id, order_delivered_carrier_date, order_delivered_customer_date, order_estimated_delivery_date, payment_value, customer_id, customer_city, seller_id, seller_city]\n",
              "Index: []"
            ]
          },
          "execution_count": 79,
          "metadata": {},
          "output_type": "execute_result"
        }
      ],
      "source": [
        "df[df.payment_value == 0]"
      ]
    },
    {
      "cell_type": "markdown",
      "metadata": {},
      "source": [
        "The recheck confirmed that no inaccurate values remained in \"payment_value\", allowing the process to proceed to the next stage."
      ]
    },
    {
      "cell_type": "markdown",
      "metadata": {
        "id": "Q_5ejIqckiSP"
      },
      "source": [
        "**Insights:**\n",
        "- This process cleans the data by removing or addressing records deemed unsuitable for analysis.\n",
        "- It includes **correcting** *data types* for \"order_delivered_carrier_date,\" \"order_delivered_customer_date,\" and \"order_estimated_delivery_date,\" changing them from object to **datetime**.\n",
        "- *Duplicate values* were **removed** in the next step.\n",
        "- The main analysis data with missing values, \"order_delivered_customer_date\", was handled by **imputing** the *missing values* with the corresponding \"order_estimated_delivery_date.\" This decision was based on the availability and relevance of the estimated delivery data.\n",
        "- Finally, *inaccurate values* in \"payment_value\" were addressed by **dropping** the affected data due to their minimal number compared to the total dataset."
      ]
    },
    {
      "cell_type": "markdown",
      "metadata": {
        "id": "gp-Y6wU38DC1"
      },
      "source": [
        "## Exploratory Data Analysis (EDA)"
      ]
    },
    {
      "cell_type": "markdown",
      "metadata": {
        "id": "MW7WF2kr8DC1"
      },
      "source": [
        "### Exploring Dataset **df**\n",
        "#### Objective: Explore the dataset values to gain general insights."
      ]
    },
    {
      "cell_type": "markdown",
      "metadata": {},
      "source": [
        "Dataset Overview"
      ]
    },
    {
      "cell_type": "code",
      "execution_count": 80,
      "metadata": {},
      "outputs": [
        {
          "data": {
            "text/html": [
              "<div>\n",
              "<style scoped>\n",
              "    .dataframe tbody tr th:only-of-type {\n",
              "        vertical-align: middle;\n",
              "    }\n",
              "\n",
              "    .dataframe tbody tr th {\n",
              "        vertical-align: top;\n",
              "    }\n",
              "\n",
              "    .dataframe thead th {\n",
              "        text-align: right;\n",
              "    }\n",
              "</style>\n",
              "<table border=\"1\" class=\"dataframe\">\n",
              "  <thead>\n",
              "    <tr style=\"text-align: right;\">\n",
              "      <th></th>\n",
              "      <th>order_id</th>\n",
              "      <th>order_delivered_carrier_date</th>\n",
              "      <th>order_delivered_customer_date</th>\n",
              "      <th>order_estimated_delivery_date</th>\n",
              "      <th>payment_value</th>\n",
              "      <th>customer_id</th>\n",
              "      <th>customer_city</th>\n",
              "      <th>seller_id</th>\n",
              "      <th>seller_city</th>\n",
              "    </tr>\n",
              "  </thead>\n",
              "  <tbody>\n",
              "    <tr>\n",
              "      <th>0</th>\n",
              "      <td>e481f51cbdc54678b7cc49136f2d6af7</td>\n",
              "      <td>2017-10-04 19:55:00</td>\n",
              "      <td>2017-10-10 21:25:13</td>\n",
              "      <td>2017-10-18</td>\n",
              "      <td>18.12</td>\n",
              "      <td>9ef432eb6251297304e76186b10a928d</td>\n",
              "      <td>sao paulo</td>\n",
              "      <td>3504c0cb71d7fa48d967e0e4c94d59d9</td>\n",
              "      <td>maua</td>\n",
              "    </tr>\n",
              "    <tr>\n",
              "      <th>1</th>\n",
              "      <td>e481f51cbdc54678b7cc49136f2d6af7</td>\n",
              "      <td>2017-10-04 19:55:00</td>\n",
              "      <td>2017-10-10 21:25:13</td>\n",
              "      <td>2017-10-18</td>\n",
              "      <td>2.00</td>\n",
              "      <td>9ef432eb6251297304e76186b10a928d</td>\n",
              "      <td>sao paulo</td>\n",
              "      <td>3504c0cb71d7fa48d967e0e4c94d59d9</td>\n",
              "      <td>maua</td>\n",
              "    </tr>\n",
              "    <tr>\n",
              "      <th>2</th>\n",
              "      <td>e481f51cbdc54678b7cc49136f2d6af7</td>\n",
              "      <td>2017-10-04 19:55:00</td>\n",
              "      <td>2017-10-10 21:25:13</td>\n",
              "      <td>2017-10-18</td>\n",
              "      <td>18.59</td>\n",
              "      <td>9ef432eb6251297304e76186b10a928d</td>\n",
              "      <td>sao paulo</td>\n",
              "      <td>3504c0cb71d7fa48d967e0e4c94d59d9</td>\n",
              "      <td>maua</td>\n",
              "    </tr>\n",
              "    <tr>\n",
              "      <th>3</th>\n",
              "      <td>53cdb2fc8bc7dce0b6741e2150273451</td>\n",
              "      <td>2018-07-26 14:31:00</td>\n",
              "      <td>2018-08-07 15:27:45</td>\n",
              "      <td>2018-08-13</td>\n",
              "      <td>141.46</td>\n",
              "      <td>b0830fb4747a6c6d20dea0b8c802d7ef</td>\n",
              "      <td>barreiras</td>\n",
              "      <td>289cdb325fb7e7f891c38608bf9e0962</td>\n",
              "      <td>belo horizonte</td>\n",
              "    </tr>\n",
              "    <tr>\n",
              "      <th>4</th>\n",
              "      <td>47770eb9100c2d0c44946d9cf07ec65d</td>\n",
              "      <td>2018-08-08 13:50:00</td>\n",
              "      <td>2018-08-17 18:06:29</td>\n",
              "      <td>2018-09-04</td>\n",
              "      <td>179.12</td>\n",
              "      <td>41ce2a54c0b03bf3443c3d931a367089</td>\n",
              "      <td>vianopolis</td>\n",
              "      <td>4869f7a5dfa277a7dca6462dcf3b52b2</td>\n",
              "      <td>guariba</td>\n",
              "    </tr>\n",
              "  </tbody>\n",
              "</table>\n",
              "</div>"
            ],
            "text/plain": [
              "                           order_id order_delivered_carrier_date  \\\n",
              "0  e481f51cbdc54678b7cc49136f2d6af7          2017-10-04 19:55:00   \n",
              "1  e481f51cbdc54678b7cc49136f2d6af7          2017-10-04 19:55:00   \n",
              "2  e481f51cbdc54678b7cc49136f2d6af7          2017-10-04 19:55:00   \n",
              "3  53cdb2fc8bc7dce0b6741e2150273451          2018-07-26 14:31:00   \n",
              "4  47770eb9100c2d0c44946d9cf07ec65d          2018-08-08 13:50:00   \n",
              "\n",
              "  order_delivered_customer_date order_estimated_delivery_date  payment_value  \\\n",
              "0           2017-10-10 21:25:13                    2017-10-18          18.12   \n",
              "1           2017-10-10 21:25:13                    2017-10-18           2.00   \n",
              "2           2017-10-10 21:25:13                    2017-10-18          18.59   \n",
              "3           2018-08-07 15:27:45                    2018-08-13         141.46   \n",
              "4           2018-08-17 18:06:29                    2018-09-04         179.12   \n",
              "\n",
              "                        customer_id customer_city  \\\n",
              "0  9ef432eb6251297304e76186b10a928d     sao paulo   \n",
              "1  9ef432eb6251297304e76186b10a928d     sao paulo   \n",
              "2  9ef432eb6251297304e76186b10a928d     sao paulo   \n",
              "3  b0830fb4747a6c6d20dea0b8c802d7ef     barreiras   \n",
              "4  41ce2a54c0b03bf3443c3d931a367089    vianopolis   \n",
              "\n",
              "                          seller_id     seller_city  \n",
              "0  3504c0cb71d7fa48d967e0e4c94d59d9            maua  \n",
              "1  3504c0cb71d7fa48d967e0e4c94d59d9            maua  \n",
              "2  3504c0cb71d7fa48d967e0e4c94d59d9            maua  \n",
              "3  289cdb325fb7e7f891c38608bf9e0962  belo horizonte  \n",
              "4  4869f7a5dfa277a7dca6462dcf3b52b2         guariba  "
            ]
          },
          "execution_count": 80,
          "metadata": {},
          "output_type": "execute_result"
        }
      ],
      "source": [
        "df.head()"
      ]
    },
    {
      "cell_type": "markdown",
      "metadata": {},
      "source": [
        "Dataset Statistic Parameters"
      ]
    },
    {
      "cell_type": "code",
      "execution_count": 81,
      "metadata": {
        "id": "e9CQCZjk8DC2"
      },
      "outputs": [
        {
          "data": {
            "text/html": [
              "<div>\n",
              "<style scoped>\n",
              "    .dataframe tbody tr th:only-of-type {\n",
              "        vertical-align: middle;\n",
              "    }\n",
              "\n",
              "    .dataframe tbody tr th {\n",
              "        vertical-align: top;\n",
              "    }\n",
              "\n",
              "    .dataframe thead th {\n",
              "        text-align: right;\n",
              "    }\n",
              "</style>\n",
              "<table border=\"1\" class=\"dataframe\">\n",
              "  <thead>\n",
              "    <tr style=\"text-align: right;\">\n",
              "      <th></th>\n",
              "      <th>order_id</th>\n",
              "      <th>order_delivered_carrier_date</th>\n",
              "      <th>order_delivered_customer_date</th>\n",
              "      <th>order_estimated_delivery_date</th>\n",
              "      <th>payment_value</th>\n",
              "      <th>customer_id</th>\n",
              "      <th>customer_city</th>\n",
              "      <th>seller_id</th>\n",
              "      <th>seller_city</th>\n",
              "    </tr>\n",
              "  </thead>\n",
              "  <tbody>\n",
              "    <tr>\n",
              "      <th>count</th>\n",
              "      <td>103876</td>\n",
              "      <td>102824</td>\n",
              "      <td>103876</td>\n",
              "      <td>103876</td>\n",
              "      <td>103876.000000</td>\n",
              "      <td>103876</td>\n",
              "      <td>103876</td>\n",
              "      <td>103876</td>\n",
              "      <td>103876</td>\n",
              "    </tr>\n",
              "    <tr>\n",
              "      <th>unique</th>\n",
              "      <td>98665</td>\n",
              "      <td>NaN</td>\n",
              "      <td>NaN</td>\n",
              "      <td>NaN</td>\n",
              "      <td>NaN</td>\n",
              "      <td>98665</td>\n",
              "      <td>4110</td>\n",
              "      <td>3095</td>\n",
              "      <td>611</td>\n",
              "    </tr>\n",
              "    <tr>\n",
              "      <th>top</th>\n",
              "      <td>fa65dad1b0e818e3ccc5cb0e39231352</td>\n",
              "      <td>NaN</td>\n",
              "      <td>NaN</td>\n",
              "      <td>NaN</td>\n",
              "      <td>NaN</td>\n",
              "      <td>9af2372a1e49340278e7c1ef8d749f34</td>\n",
              "      <td>sao paulo</td>\n",
              "      <td>4a3ca9315b744ce9f8e9374361493884</td>\n",
              "      <td>sao paulo</td>\n",
              "    </tr>\n",
              "    <tr>\n",
              "      <th>freq</th>\n",
              "      <td>24</td>\n",
              "      <td>NaN</td>\n",
              "      <td>NaN</td>\n",
              "      <td>NaN</td>\n",
              "      <td>NaN</td>\n",
              "      <td>24</td>\n",
              "      <td>16205</td>\n",
              "      <td>1929</td>\n",
              "      <td>25594</td>\n",
              "    </tr>\n",
              "    <tr>\n",
              "      <th>mean</th>\n",
              "      <td>NaN</td>\n",
              "      <td>2018-01-04 01:30:12.054326016</td>\n",
              "      <td>2018-01-12 21:28:18.474431232</td>\n",
              "      <td>2018-01-23 21:54:50.030420992</td>\n",
              "      <td>155.789079</td>\n",
              "      <td>NaN</td>\n",
              "      <td>NaN</td>\n",
              "      <td>NaN</td>\n",
              "      <td>NaN</td>\n",
              "    </tr>\n",
              "    <tr>\n",
              "      <th>min</th>\n",
              "      <td>NaN</td>\n",
              "      <td>2016-10-08 10:34:01</td>\n",
              "      <td>2016-10-11 13:46:32</td>\n",
              "      <td>2016-10-20 00:00:00</td>\n",
              "      <td>0.010000</td>\n",
              "      <td>NaN</td>\n",
              "      <td>NaN</td>\n",
              "      <td>NaN</td>\n",
              "      <td>NaN</td>\n",
              "    </tr>\n",
              "    <tr>\n",
              "      <th>25%</th>\n",
              "      <td>NaN</td>\n",
              "      <td>2017-09-14 21:03:34.249999872</td>\n",
              "      <td>2017-09-21 21:13:16.750000128</td>\n",
              "      <td>2017-10-03 00:00:00</td>\n",
              "      <td>57.690000</td>\n",
              "      <td>NaN</td>\n",
              "      <td>NaN</td>\n",
              "      <td>NaN</td>\n",
              "      <td>NaN</td>\n",
              "    </tr>\n",
              "    <tr>\n",
              "      <th>50%</th>\n",
              "      <td>NaN</td>\n",
              "      <td>2018-01-23 21:11:24</td>\n",
              "      <td>2018-02-01 16:31:44</td>\n",
              "      <td>2018-02-15 00:00:00</td>\n",
              "      <td>101.460000</td>\n",
              "      <td>NaN</td>\n",
              "      <td>NaN</td>\n",
              "      <td>NaN</td>\n",
              "      <td>NaN</td>\n",
              "    </tr>\n",
              "    <tr>\n",
              "      <th>75%</th>\n",
              "      <td>NaN</td>\n",
              "      <td>2018-05-08 11:31:00</td>\n",
              "      <td>2018-05-15 16:54:40.500000</td>\n",
              "      <td>2018-05-25 00:00:00</td>\n",
              "      <td>174.050000</td>\n",
              "      <td>NaN</td>\n",
              "      <td>NaN</td>\n",
              "      <td>NaN</td>\n",
              "      <td>NaN</td>\n",
              "    </tr>\n",
              "    <tr>\n",
              "      <th>max</th>\n",
              "      <td>NaN</td>\n",
              "      <td>2018-09-11 19:48:28</td>\n",
              "      <td>2018-10-17 13:22:46</td>\n",
              "      <td>2018-10-25 00:00:00</td>\n",
              "      <td>13664.080000</td>\n",
              "      <td>NaN</td>\n",
              "      <td>NaN</td>\n",
              "      <td>NaN</td>\n",
              "      <td>NaN</td>\n",
              "    </tr>\n",
              "    <tr>\n",
              "      <th>std</th>\n",
              "      <td>NaN</td>\n",
              "      <td>NaN</td>\n",
              "      <td>NaN</td>\n",
              "      <td>NaN</td>\n",
              "      <td>216.888326</td>\n",
              "      <td>NaN</td>\n",
              "      <td>NaN</td>\n",
              "      <td>NaN</td>\n",
              "      <td>NaN</td>\n",
              "    </tr>\n",
              "  </tbody>\n",
              "</table>\n",
              "</div>"
            ],
            "text/plain": [
              "                                order_id   order_delivered_carrier_date  \\\n",
              "count                             103876                         102824   \n",
              "unique                             98665                            NaN   \n",
              "top     fa65dad1b0e818e3ccc5cb0e39231352                            NaN   \n",
              "freq                                  24                            NaN   \n",
              "mean                                 NaN  2018-01-04 01:30:12.054326016   \n",
              "min                                  NaN            2016-10-08 10:34:01   \n",
              "25%                                  NaN  2017-09-14 21:03:34.249999872   \n",
              "50%                                  NaN            2018-01-23 21:11:24   \n",
              "75%                                  NaN            2018-05-08 11:31:00   \n",
              "max                                  NaN            2018-09-11 19:48:28   \n",
              "std                                  NaN                            NaN   \n",
              "\n",
              "        order_delivered_customer_date  order_estimated_delivery_date  \\\n",
              "count                          103876                         103876   \n",
              "unique                            NaN                            NaN   \n",
              "top                               NaN                            NaN   \n",
              "freq                              NaN                            NaN   \n",
              "mean    2018-01-12 21:28:18.474431232  2018-01-23 21:54:50.030420992   \n",
              "min               2016-10-11 13:46:32            2016-10-20 00:00:00   \n",
              "25%     2017-09-21 21:13:16.750000128            2017-10-03 00:00:00   \n",
              "50%               2018-02-01 16:31:44            2018-02-15 00:00:00   \n",
              "75%        2018-05-15 16:54:40.500000            2018-05-25 00:00:00   \n",
              "max               2018-10-17 13:22:46            2018-10-25 00:00:00   \n",
              "std                               NaN                            NaN   \n",
              "\n",
              "        payment_value                       customer_id customer_city  \\\n",
              "count   103876.000000                            103876        103876   \n",
              "unique            NaN                             98665          4110   \n",
              "top               NaN  9af2372a1e49340278e7c1ef8d749f34     sao paulo   \n",
              "freq              NaN                                24         16205   \n",
              "mean       155.789079                               NaN           NaN   \n",
              "min          0.010000                               NaN           NaN   \n",
              "25%         57.690000                               NaN           NaN   \n",
              "50%        101.460000                               NaN           NaN   \n",
              "75%        174.050000                               NaN           NaN   \n",
              "max      13664.080000                               NaN           NaN   \n",
              "std        216.888326                               NaN           NaN   \n",
              "\n",
              "                               seller_id seller_city  \n",
              "count                             103876      103876  \n",
              "unique                              3095         611  \n",
              "top     4a3ca9315b744ce9f8e9374361493884   sao paulo  \n",
              "freq                                1929       25594  \n",
              "mean                                 NaN         NaN  \n",
              "min                                  NaN         NaN  \n",
              "25%                                  NaN         NaN  \n",
              "50%                                  NaN         NaN  \n",
              "75%                                  NaN         NaN  \n",
              "max                                  NaN         NaN  \n",
              "std                                  NaN         NaN  "
            ]
          },
          "execution_count": 81,
          "metadata": {},
          "output_type": "execute_result"
        }
      ],
      "source": [
        "df.describe(include=\"all\")"
      ]
    },
    {
      "cell_type": "markdown",
      "metadata": {},
      "source": [
        "### Exploring Company's Sales and Revenue Data in  **df**\n",
        "#### Objective: Explore the company's sales and revenue values over time."
      ]
    },
    {
      "cell_type": "markdown",
      "metadata": {},
      "source": [
        "Total Sales and Transaction Values (based on Payment Transactions)"
      ]
    },
    {
      "cell_type": "code",
      "execution_count": 82,
      "metadata": {},
      "outputs": [
        {
          "data": {
            "text/html": [
              "<div>\n",
              "<style scoped>\n",
              "    .dataframe tbody tr th:only-of-type {\n",
              "        vertical-align: middle;\n",
              "    }\n",
              "\n",
              "    .dataframe tbody tr th {\n",
              "        vertical-align: top;\n",
              "    }\n",
              "\n",
              "    .dataframe thead th {\n",
              "        text-align: right;\n",
              "    }\n",
              "</style>\n",
              "<table border=\"1\" class=\"dataframe\">\n",
              "  <thead>\n",
              "    <tr style=\"text-align: right;\">\n",
              "      <th></th>\n",
              "      <th>order_id</th>\n",
              "      <th>payment_value</th>\n",
              "    </tr>\n",
              "    <tr>\n",
              "      <th>order_delivered_customer_date</th>\n",
              "      <th></th>\n",
              "      <th></th>\n",
              "    </tr>\n",
              "  </thead>\n",
              "  <tbody>\n",
              "    <tr>\n",
              "      <th>2016-10</th>\n",
              "      <td>211</td>\n",
              "      <td>35952.74</td>\n",
              "    </tr>\n",
              "    <tr>\n",
              "      <th>2016-11</th>\n",
              "      <td>72</td>\n",
              "      <td>14990.56</td>\n",
              "    </tr>\n",
              "    <tr>\n",
              "      <th>2016-12</th>\n",
              "      <td>28</td>\n",
              "      <td>7023.02</td>\n",
              "    </tr>\n",
              "    <tr>\n",
              "      <th>2017-01</th>\n",
              "      <td>283</td>\n",
              "      <td>38298.21</td>\n",
              "    </tr>\n",
              "    <tr>\n",
              "      <th>2017-02</th>\n",
              "      <td>1360</td>\n",
              "      <td>231100.82</td>\n",
              "    </tr>\n",
              "    <tr>\n",
              "      <th>2017-03</th>\n",
              "      <td>2506</td>\n",
              "      <td>416900.13</td>\n",
              "    </tr>\n",
              "    <tr>\n",
              "      <th>2017-04</th>\n",
              "      <td>1926</td>\n",
              "      <td>326530.89</td>\n",
              "    </tr>\n",
              "    <tr>\n",
              "      <th>2017-05</th>\n",
              "      <td>3858</td>\n",
              "      <td>628468.91</td>\n",
              "    </tr>\n",
              "    <tr>\n",
              "      <th>2017-06</th>\n",
              "      <td>3332</td>\n",
              "      <td>525425.66</td>\n",
              "    </tr>\n",
              "    <tr>\n",
              "      <th>2017-07</th>\n",
              "      <td>3543</td>\n",
              "      <td>557008.82</td>\n",
              "    </tr>\n",
              "    <tr>\n",
              "      <th>2017-08</th>\n",
              "      <td>4401</td>\n",
              "      <td>660784.70</td>\n",
              "    </tr>\n",
              "    <tr>\n",
              "      <th>2017-09</th>\n",
              "      <td>4072</td>\n",
              "      <td>703697.97</td>\n",
              "    </tr>\n",
              "    <tr>\n",
              "      <th>2017-10</th>\n",
              "      <td>4584</td>\n",
              "      <td>797492.83</td>\n",
              "    </tr>\n",
              "    <tr>\n",
              "      <th>2017-11</th>\n",
              "      <td>4766</td>\n",
              "      <td>791795.59</td>\n",
              "    </tr>\n",
              "    <tr>\n",
              "      <th>2017-12</th>\n",
              "      <td>7366</td>\n",
              "      <td>1150520.86</td>\n",
              "    </tr>\n",
              "    <tr>\n",
              "      <th>2018-01</th>\n",
              "      <td>6690</td>\n",
              "      <td>1030388.16</td>\n",
              "    </tr>\n",
              "    <tr>\n",
              "      <th>2018-02</th>\n",
              "      <td>5984</td>\n",
              "      <td>912535.40</td>\n",
              "    </tr>\n",
              "    <tr>\n",
              "      <th>2018-03</th>\n",
              "      <td>7007</td>\n",
              "      <td>1098278.87</td>\n",
              "    </tr>\n",
              "    <tr>\n",
              "      <th>2018-04</th>\n",
              "      <td>8023</td>\n",
              "      <td>1371901.48</td>\n",
              "    </tr>\n",
              "    <tr>\n",
              "      <th>2018-05</th>\n",
              "      <td>7264</td>\n",
              "      <td>1230185.29</td>\n",
              "    </tr>\n",
              "    <tr>\n",
              "      <th>2018-06</th>\n",
              "      <td>6903</td>\n",
              "      <td>1217395.99</td>\n",
              "    </tr>\n",
              "    <tr>\n",
              "      <th>2018-07</th>\n",
              "      <td>5924</td>\n",
              "      <td>991053.92</td>\n",
              "    </tr>\n",
              "    <tr>\n",
              "      <th>2018-08</th>\n",
              "      <td>8499</td>\n",
              "      <td>1431304.03</td>\n",
              "    </tr>\n",
              "    <tr>\n",
              "      <th>2018-09</th>\n",
              "      <td>60</td>\n",
              "      <td>13363.62</td>\n",
              "    </tr>\n",
              "    <tr>\n",
              "      <th>2018-10</th>\n",
              "      <td>3</td>\n",
              "      <td>347.95</td>\n",
              "    </tr>\n",
              "  </tbody>\n",
              "</table>\n",
              "</div>"
            ],
            "text/plain": [
              "                               order_id  payment_value\n",
              "order_delivered_customer_date                         \n",
              "2016-10                             211       35952.74\n",
              "2016-11                              72       14990.56\n",
              "2016-12                              28        7023.02\n",
              "2017-01                             283       38298.21\n",
              "2017-02                            1360      231100.82\n",
              "2017-03                            2506      416900.13\n",
              "2017-04                            1926      326530.89\n",
              "2017-05                            3858      628468.91\n",
              "2017-06                            3332      525425.66\n",
              "2017-07                            3543      557008.82\n",
              "2017-08                            4401      660784.70\n",
              "2017-09                            4072      703697.97\n",
              "2017-10                            4584      797492.83\n",
              "2017-11                            4766      791795.59\n",
              "2017-12                            7366     1150520.86\n",
              "2018-01                            6690     1030388.16\n",
              "2018-02                            5984      912535.40\n",
              "2018-03                            7007     1098278.87\n",
              "2018-04                            8023     1371901.48\n",
              "2018-05                            7264     1230185.29\n",
              "2018-06                            6903     1217395.99\n",
              "2018-07                            5924      991053.92\n",
              "2018-08                            8499     1431304.03\n",
              "2018-09                              60       13363.62\n",
              "2018-10                               3         347.95"
            ]
          },
          "execution_count": 82,
          "metadata": {},
          "output_type": "execute_result"
        }
      ],
      "source": [
        "exp_order = df.groupby(df[\"order_delivered_customer_date\"].dt.to_period('M')).agg({\n",
        "    \"order_id\": \"nunique\",\n",
        "    \"payment_value\": \"sum\",\n",
        "})\n",
        "exp_order"
      ]
    },
    {
      "cell_type": "markdown",
      "metadata": {},
      "source": [
        "Statistical Parameters for Total Sales (based on Payment Transactions)"
      ]
    },
    {
      "cell_type": "code",
      "execution_count": 83,
      "metadata": {},
      "outputs": [
        {
          "data": {
            "text/html": [
              "<div>\n",
              "<style scoped>\n",
              "    .dataframe tbody tr th:only-of-type {\n",
              "        vertical-align: middle;\n",
              "    }\n",
              "\n",
              "    .dataframe tbody tr th {\n",
              "        vertical-align: top;\n",
              "    }\n",
              "\n",
              "    .dataframe thead th {\n",
              "        text-align: right;\n",
              "    }\n",
              "</style>\n",
              "<table border=\"1\" class=\"dataframe\">\n",
              "  <thead>\n",
              "    <tr style=\"text-align: right;\">\n",
              "      <th></th>\n",
              "      <th>order_id</th>\n",
              "      <th>payment_value</th>\n",
              "    </tr>\n",
              "  </thead>\n",
              "  <tbody>\n",
              "    <tr>\n",
              "      <th>count</th>\n",
              "      <td>25.00</td>\n",
              "      <td>25.00</td>\n",
              "    </tr>\n",
              "    <tr>\n",
              "      <th>mean</th>\n",
              "      <td>3,946.60</td>\n",
              "      <td>647,309.86</td>\n",
              "    </tr>\n",
              "    <tr>\n",
              "      <th>std</th>\n",
              "      <td>2,863.80</td>\n",
              "      <td>473,045.98</td>\n",
              "    </tr>\n",
              "    <tr>\n",
              "      <th>min</th>\n",
              "      <td>3.00</td>\n",
              "      <td>347.95</td>\n",
              "    </tr>\n",
              "    <tr>\n",
              "      <th>25%</th>\n",
              "      <td>1,360.00</td>\n",
              "      <td>231,100.82</td>\n",
              "    </tr>\n",
              "    <tr>\n",
              "      <th>50%</th>\n",
              "      <td>4,072.00</td>\n",
              "      <td>660,784.70</td>\n",
              "    </tr>\n",
              "    <tr>\n",
              "      <th>75%</th>\n",
              "      <td>6,690.00</td>\n",
              "      <td>1,030,388.16</td>\n",
              "    </tr>\n",
              "    <tr>\n",
              "      <th>max</th>\n",
              "      <td>8,499.00</td>\n",
              "      <td>1,431,304.03</td>\n",
              "    </tr>\n",
              "  </tbody>\n",
              "</table>\n",
              "</div>"
            ],
            "text/plain": [
              "       order_id  payment_value\n",
              "count     25.00          25.00\n",
              "mean   3,946.60     647,309.86\n",
              "std    2,863.80     473,045.98\n",
              "min        3.00         347.95\n",
              "25%    1,360.00     231,100.82\n",
              "50%    4,072.00     660,784.70\n",
              "75%    6,690.00   1,030,388.16\n",
              "max    8,499.00   1,431,304.03"
            ]
          },
          "execution_count": 83,
          "metadata": {},
          "output_type": "execute_result"
        }
      ],
      "source": [
        "pd.set_option('display.float_format', '{:,.2f}'.format)\n",
        "exp_order.describe()"
      ]
    },
    {
      "cell_type": "code",
      "execution_count": 84,
      "metadata": {},
      "outputs": [],
      "source": [
        "pd.reset_option('display.float_format')"
      ]
    },
    {
      "cell_type": "markdown",
      "metadata": {},
      "source": [
        "### Exploring Customer Location Data in **df**\n",
        "#### Objective: Examine customer location data owned by the company."
      ]
    },
    {
      "cell_type": "markdown",
      "metadata": {},
      "source": [
        "Customer Distribution by City"
      ]
    },
    {
      "cell_type": "code",
      "execution_count": 85,
      "metadata": {},
      "outputs": [
        {
          "data": {
            "text/html": [
              "<div>\n",
              "<style scoped>\n",
              "    .dataframe tbody tr th:only-of-type {\n",
              "        vertical-align: middle;\n",
              "    }\n",
              "\n",
              "    .dataframe tbody tr th {\n",
              "        vertical-align: top;\n",
              "    }\n",
              "\n",
              "    .dataframe thead th {\n",
              "        text-align: right;\n",
              "    }\n",
              "</style>\n",
              "<table border=\"1\" class=\"dataframe\">\n",
              "  <thead>\n",
              "    <tr style=\"text-align: right;\">\n",
              "      <th></th>\n",
              "      <th>customer_id</th>\n",
              "    </tr>\n",
              "    <tr>\n",
              "      <th>customer_city</th>\n",
              "      <th></th>\n",
              "    </tr>\n",
              "  </thead>\n",
              "  <tbody>\n",
              "    <tr>\n",
              "      <th>sao paulo</th>\n",
              "      <td>15402</td>\n",
              "    </tr>\n",
              "    <tr>\n",
              "      <th>rio de janeiro</th>\n",
              "      <td>6834</td>\n",
              "    </tr>\n",
              "    <tr>\n",
              "      <th>belo horizonte</th>\n",
              "      <td>2750</td>\n",
              "    </tr>\n",
              "    <tr>\n",
              "      <th>brasilia</th>\n",
              "      <td>2116</td>\n",
              "    </tr>\n",
              "    <tr>\n",
              "      <th>curitiba</th>\n",
              "      <td>1510</td>\n",
              "    </tr>\n",
              "    <tr>\n",
              "      <th>...</th>\n",
              "      <td>...</td>\n",
              "    </tr>\n",
              "    <tr>\n",
              "      <th>ibarama</th>\n",
              "      <td>1</td>\n",
              "    </tr>\n",
              "    <tr>\n",
              "      <th>rio espera</th>\n",
              "      <td>1</td>\n",
              "    </tr>\n",
              "    <tr>\n",
              "      <th>rio dos indios</th>\n",
              "      <td>1</td>\n",
              "    </tr>\n",
              "    <tr>\n",
              "      <th>rio dos cedros</th>\n",
              "      <td>1</td>\n",
              "    </tr>\n",
              "    <tr>\n",
              "      <th>lagoao</th>\n",
              "      <td>1</td>\n",
              "    </tr>\n",
              "  </tbody>\n",
              "</table>\n",
              "<p>4110 rows × 1 columns</p>\n",
              "</div>"
            ],
            "text/plain": [
              "                customer_id\n",
              "customer_city              \n",
              "sao paulo             15402\n",
              "rio de janeiro         6834\n",
              "belo horizonte         2750\n",
              "brasilia               2116\n",
              "curitiba               1510\n",
              "...                     ...\n",
              "ibarama                   1\n",
              "rio espera                1\n",
              "rio dos indios            1\n",
              "rio dos cedros            1\n",
              "lagoao                    1\n",
              "\n",
              "[4110 rows x 1 columns]"
            ]
          },
          "execution_count": 85,
          "metadata": {},
          "output_type": "execute_result"
        }
      ],
      "source": [
        "exp_cust = df.groupby(by=[\"customer_city\"]).agg({\n",
        "    \"customer_id\": \"nunique\",\n",
        "})\n",
        "exp_cust = exp_cust.sort_values(by=(\"customer_id\"), ascending=False)\n",
        "exp_cust"
      ]
    },
    {
      "cell_type": "markdown",
      "metadata": {},
      "source": [
        "Statistical Parameters for Customer Distribution by City"
      ]
    },
    {
      "cell_type": "code",
      "execution_count": 86,
      "metadata": {},
      "outputs": [
        {
          "data": {
            "text/html": [
              "<div>\n",
              "<style scoped>\n",
              "    .dataframe tbody tr th:only-of-type {\n",
              "        vertical-align: middle;\n",
              "    }\n",
              "\n",
              "    .dataframe tbody tr th {\n",
              "        vertical-align: top;\n",
              "    }\n",
              "\n",
              "    .dataframe thead th {\n",
              "        text-align: right;\n",
              "    }\n",
              "</style>\n",
              "<table border=\"1\" class=\"dataframe\">\n",
              "  <thead>\n",
              "    <tr style=\"text-align: right;\">\n",
              "      <th></th>\n",
              "      <th>customer_id</th>\n",
              "    </tr>\n",
              "  </thead>\n",
              "  <tbody>\n",
              "    <tr>\n",
              "      <th>count</th>\n",
              "      <td>4110.000000</td>\n",
              "    </tr>\n",
              "    <tr>\n",
              "      <th>mean</th>\n",
              "      <td>24.006083</td>\n",
              "    </tr>\n",
              "    <tr>\n",
              "      <th>std</th>\n",
              "      <td>277.207180</td>\n",
              "    </tr>\n",
              "    <tr>\n",
              "      <th>min</th>\n",
              "      <td>1.000000</td>\n",
              "    </tr>\n",
              "    <tr>\n",
              "      <th>25%</th>\n",
              "      <td>1.000000</td>\n",
              "    </tr>\n",
              "    <tr>\n",
              "      <th>50%</th>\n",
              "      <td>3.000000</td>\n",
              "    </tr>\n",
              "    <tr>\n",
              "      <th>75%</th>\n",
              "      <td>9.000000</td>\n",
              "    </tr>\n",
              "    <tr>\n",
              "      <th>max</th>\n",
              "      <td>15402.000000</td>\n",
              "    </tr>\n",
              "  </tbody>\n",
              "</table>\n",
              "</div>"
            ],
            "text/plain": [
              "        customer_id\n",
              "count   4110.000000\n",
              "mean      24.006083\n",
              "std      277.207180\n",
              "min        1.000000\n",
              "25%        1.000000\n",
              "50%        3.000000\n",
              "75%        9.000000\n",
              "max    15402.000000"
            ]
          },
          "execution_count": 86,
          "metadata": {},
          "output_type": "execute_result"
        }
      ],
      "source": [
        "exp_cust.describe()"
      ]
    },
    {
      "cell_type": "markdown",
      "metadata": {},
      "source": [
        "### Exploring Customer and Seller Location Data in **df**\n",
        "#### Objective: Explore the relationship between customer and seller locations involved in transactions."
      ]
    },
    {
      "cell_type": "markdown",
      "metadata": {},
      "source": [
        "Number of **Customers** and **Seller Cities** Transacting with The Customers"
      ]
    },
    {
      "cell_type": "code",
      "execution_count": 87,
      "metadata": {},
      "outputs": [
        {
          "data": {
            "text/html": [
              "<div>\n",
              "<style scoped>\n",
              "    .dataframe tbody tr th:only-of-type {\n",
              "        vertical-align: middle;\n",
              "    }\n",
              "\n",
              "    .dataframe tbody tr th {\n",
              "        vertical-align: top;\n",
              "    }\n",
              "\n",
              "    .dataframe thead th {\n",
              "        text-align: right;\n",
              "    }\n",
              "</style>\n",
              "<table border=\"1\" class=\"dataframe\">\n",
              "  <thead>\n",
              "    <tr style=\"text-align: right;\">\n",
              "      <th></th>\n",
              "      <th>customer_id</th>\n",
              "      <th>seller_city</th>\n",
              "    </tr>\n",
              "    <tr>\n",
              "      <th>customer_city</th>\n",
              "      <th></th>\n",
              "      <th></th>\n",
              "    </tr>\n",
              "  </thead>\n",
              "  <tbody>\n",
              "    <tr>\n",
              "      <th>sao paulo</th>\n",
              "      <td>15402</td>\n",
              "      <td>426</td>\n",
              "    </tr>\n",
              "    <tr>\n",
              "      <th>rio de janeiro</th>\n",
              "      <td>6834</td>\n",
              "      <td>345</td>\n",
              "    </tr>\n",
              "    <tr>\n",
              "      <th>belo horizonte</th>\n",
              "      <td>2750</td>\n",
              "      <td>290</td>\n",
              "    </tr>\n",
              "    <tr>\n",
              "      <th>brasilia</th>\n",
              "      <td>2116</td>\n",
              "      <td>251</td>\n",
              "    </tr>\n",
              "    <tr>\n",
              "      <th>curitiba</th>\n",
              "      <td>1510</td>\n",
              "      <td>228</td>\n",
              "    </tr>\n",
              "    <tr>\n",
              "      <th>...</th>\n",
              "      <td>...</td>\n",
              "      <td>...</td>\n",
              "    </tr>\n",
              "    <tr>\n",
              "      <th>retirolandia</th>\n",
              "      <td>1</td>\n",
              "      <td>1</td>\n",
              "    </tr>\n",
              "    <tr>\n",
              "      <th>guimaraes</th>\n",
              "      <td>1</td>\n",
              "      <td>1</td>\n",
              "    </tr>\n",
              "    <tr>\n",
              "      <th>ressaquinha</th>\n",
              "      <td>1</td>\n",
              "      <td>1</td>\n",
              "    </tr>\n",
              "    <tr>\n",
              "      <th>guinda</th>\n",
              "      <td>1</td>\n",
              "      <td>1</td>\n",
              "    </tr>\n",
              "    <tr>\n",
              "      <th>lagoao</th>\n",
              "      <td>1</td>\n",
              "      <td>1</td>\n",
              "    </tr>\n",
              "  </tbody>\n",
              "</table>\n",
              "<p>4110 rows × 2 columns</p>\n",
              "</div>"
            ],
            "text/plain": [
              "                customer_id  seller_city\n",
              "customer_city                           \n",
              "sao paulo             15402          426\n",
              "rio de janeiro         6834          345\n",
              "belo horizonte         2750          290\n",
              "brasilia               2116          251\n",
              "curitiba               1510          228\n",
              "...                     ...          ...\n",
              "retirolandia              1            1\n",
              "guimaraes                 1            1\n",
              "ressaquinha               1            1\n",
              "guinda                    1            1\n",
              "lagoao                    1            1\n",
              "\n",
              "[4110 rows x 2 columns]"
            ]
          },
          "execution_count": 87,
          "metadata": {},
          "output_type": "execute_result"
        }
      ],
      "source": [
        "exp_loc = df.groupby(by=[\"customer_city\"]).agg({    \n",
        "    # Set customer_city as the primary variable\n",
        "    # Count the unique customer_id for each customer_city\n",
        "    \"customer_id\": \"nunique\",   \n",
        "    # Count the unique seller_city for each customer_city                    \n",
        "    \"seller_city\": \"nunique\",                       \n",
        "})\n",
        "exp_loc = exp_loc.sort_values(by=(\"seller_city\"), ascending=False)\n",
        "exp_loc"
      ]
    },
    {
      "cell_type": "markdown",
      "metadata": {},
      "source": [
        "Statistical Parameters for the Number of **Customers** and **Seller Cities** Transacting with The Customers"
      ]
    },
    {
      "cell_type": "code",
      "execution_count": 88,
      "metadata": {},
      "outputs": [
        {
          "data": {
            "text/html": [
              "<div>\n",
              "<style scoped>\n",
              "    .dataframe tbody tr th:only-of-type {\n",
              "        vertical-align: middle;\n",
              "    }\n",
              "\n",
              "    .dataframe tbody tr th {\n",
              "        vertical-align: top;\n",
              "    }\n",
              "\n",
              "    .dataframe thead th {\n",
              "        text-align: right;\n",
              "    }\n",
              "</style>\n",
              "<table border=\"1\" class=\"dataframe\">\n",
              "  <thead>\n",
              "    <tr style=\"text-align: right;\">\n",
              "      <th></th>\n",
              "      <th>customer_id</th>\n",
              "      <th>seller_city</th>\n",
              "    </tr>\n",
              "  </thead>\n",
              "  <tbody>\n",
              "    <tr>\n",
              "      <th>count</th>\n",
              "      <td>4110.000000</td>\n",
              "      <td>4110.000000</td>\n",
              "    </tr>\n",
              "    <tr>\n",
              "      <th>mean</th>\n",
              "      <td>24.006083</td>\n",
              "      <td>8.801703</td>\n",
              "    </tr>\n",
              "    <tr>\n",
              "      <th>std</th>\n",
              "      <td>277.207180</td>\n",
              "      <td>20.664098</td>\n",
              "    </tr>\n",
              "    <tr>\n",
              "      <th>min</th>\n",
              "      <td>1.000000</td>\n",
              "      <td>1.000000</td>\n",
              "    </tr>\n",
              "    <tr>\n",
              "      <th>25%</th>\n",
              "      <td>1.000000</td>\n",
              "      <td>1.000000</td>\n",
              "    </tr>\n",
              "    <tr>\n",
              "      <th>50%</th>\n",
              "      <td>3.000000</td>\n",
              "      <td>3.000000</td>\n",
              "    </tr>\n",
              "    <tr>\n",
              "      <th>75%</th>\n",
              "      <td>9.000000</td>\n",
              "      <td>7.000000</td>\n",
              "    </tr>\n",
              "    <tr>\n",
              "      <th>max</th>\n",
              "      <td>15402.000000</td>\n",
              "      <td>426.000000</td>\n",
              "    </tr>\n",
              "  </tbody>\n",
              "</table>\n",
              "</div>"
            ],
            "text/plain": [
              "        customer_id  seller_city\n",
              "count   4110.000000  4110.000000\n",
              "mean      24.006083     8.801703\n",
              "std      277.207180    20.664098\n",
              "min        1.000000     1.000000\n",
              "25%        1.000000     1.000000\n",
              "50%        3.000000     3.000000\n",
              "75%        9.000000     7.000000\n",
              "max    15402.000000   426.000000"
            ]
          },
          "execution_count": 88,
          "metadata": {},
          "output_type": "execute_result"
        }
      ],
      "source": [
        "exp_loc.describe()"
      ]
    },
    {
      "cell_type": "markdown",
      "metadata": {},
      "source": [
        "Correlation Between the Number of **Customers** and **Seller Cities** Transacting with The Customers"
      ]
    },
    {
      "cell_type": "code",
      "execution_count": 89,
      "metadata": {},
      "outputs": [
        {
          "data": {
            "text/html": [
              "<div>\n",
              "<style scoped>\n",
              "    .dataframe tbody tr th:only-of-type {\n",
              "        vertical-align: middle;\n",
              "    }\n",
              "\n",
              "    .dataframe tbody tr th {\n",
              "        vertical-align: top;\n",
              "    }\n",
              "\n",
              "    .dataframe thead th {\n",
              "        text-align: right;\n",
              "    }\n",
              "</style>\n",
              "<table border=\"1\" class=\"dataframe\">\n",
              "  <thead>\n",
              "    <tr style=\"text-align: right;\">\n",
              "      <th></th>\n",
              "      <th>customer_id</th>\n",
              "      <th>seller_city</th>\n",
              "    </tr>\n",
              "  </thead>\n",
              "  <tbody>\n",
              "    <tr>\n",
              "      <th>customer_id</th>\n",
              "      <td>1.000000</td>\n",
              "      <td>0.627442</td>\n",
              "    </tr>\n",
              "    <tr>\n",
              "      <th>seller_city</th>\n",
              "      <td>0.627442</td>\n",
              "      <td>1.000000</td>\n",
              "    </tr>\n",
              "  </tbody>\n",
              "</table>\n",
              "</div>"
            ],
            "text/plain": [
              "             customer_id  seller_city\n",
              "customer_id     1.000000     0.627442\n",
              "seller_city     0.627442     1.000000"
            ]
          },
          "execution_count": 89,
          "metadata": {},
          "output_type": "execute_result"
        }
      ],
      "source": [
        "loc_corr = pd.merge(\n",
        "    # Use the calculated customer_id variable from the previous DataFrame\n",
        "    left = exp_loc.customer_id,      \n",
        "    # Use the calculated seller_city variable from the previous DataFrame\n",
        "    right = exp_loc.seller_city,      \n",
        "    how = \"inner\",\n",
        "    on = \"customer_city\"\n",
        ")\n",
        "# Compute the correlation between the number of customer_id in a city \n",
        "# and the number of seller_city transacting with customers\n",
        "loc_corr.corr()                     "
      ]
    },
    {
      "cell_type": "markdown",
      "metadata": {
        "id": "th_Lzl2Fkj9O"
      },
      "source": [
        "**Insights:**\n",
        "- Dataset (**df**) Exploration:\n",
        "    1. A total of 103,876 transactions occurred during the analysis period.\n",
        "    2. There were 98,665 customers distributed across 4,110 cities.\n",
        "    3. A total of 3,095 sellers operated in 611 cities.\n",
        "- Company's Sales and Revenue Exploration:\n",
        "    1. Monthly transactions ranged between 3-8,499, with an average of 3,947 transactions per month.\n",
        "    2. Monthly sales values ranged between 347.95-1,431,304.03, with an average monthly sales value of 647,309.86.\n",
        "- Customer Location Exploration:\n",
        "    1. Customers were distributed across 4,110 cities, with an average of 24 customers per city.\n",
        "    2. The city with the highest number of customers was Sao Paulo, with 15,402 customers.\n",
        "- Customer and Seller Location Exploration:\n",
        "    1. Sao Paulo had the highest concentration of customer transactions with sellers from 426 different cities.\n",
        "    2. On average, customers in each city transacted with sellers from 9 different cities.\n",
        "    3. A positive correlation was observed between the number of customers in a city and the diversity of seller cities transacting with them. This indicates that the larger the customer base in a city, the more varied the seller locations tend to be.\n"
      ]
    },
    {
      "cell_type": "markdown",
      "metadata": {
        "id": "zsyZjqak8DC2"
      },
      "source": [
        "## Visualization & Explanatory Analysis"
      ]
    },
    {
      "cell_type": "markdown",
      "metadata": {
        "id": "HZxOiQ6n8DC2"
      },
      "source": [
        "### **Question 1:** How is the company's sales and revenue performance on a month-to-month basis?\n",
        "#### Objective: Compare the company's sales and revenue values on a monthly basis to assess its growth and development."
      ]
    },
    {
      "cell_type": "markdown",
      "metadata": {},
      "source": [
        "#### **Step 1**: Resampling the Data\n",
        "##### Objective: Group the data into resampled intervals, making it easier to present aggregate data by specific time intervals."
      ]
    },
    {
      "cell_type": "code",
      "execution_count": 90,
      "metadata": {
        "id": "1swJUdAD8DC2"
      },
      "outputs": [
        {
          "name": "stderr",
          "output_type": "stream",
          "text": [
            "C:\\Users\\Grace\\AppData\\Local\\Temp\\ipykernel_25156\\438341529.py:1: FutureWarning: 'M' is deprecated and will be removed in a future version, please use 'ME' instead.\n",
            "  vis_order = df.resample(rule='M', on='order_delivered_customer_date').agg({\n"
          ]
        }
      ],
      "source": [
        "vis_order = df.resample(rule='M', on='order_delivered_customer_date').agg({\n",
        "    \"order_id\": \"nunique\",\n",
        "    \"payment_value\": \"sum\"\n",
        "})"
      ]
    },
    {
      "cell_type": "markdown",
      "metadata": {},
      "source": [
        "#### **Step 2**: Indexing and Renaming Data\n",
        "##### Objective: To enhance data readability and avoid misconceptions regarding data labels."
      ]
    },
    {
      "cell_type": "code",
      "execution_count": 91,
      "metadata": {},
      "outputs": [],
      "source": [
        "vis_order.index = vis_order.index.strftime('%Y-%m')\n",
        "vis_order = vis_order.reset_index()\n",
        "vis_order.rename(columns={\n",
        "    \"order_delivered_customer_date\": \"order_date\",\n",
        "    \"order_id\": \"order_count\",\n",
        "    \"payment_value\": \"revenue\"\n",
        "}, inplace=True)"
      ]
    },
    {
      "cell_type": "markdown",
      "metadata": {},
      "source": [
        "#### **Step 3**: Data Visualization\n",
        "##### Objective: To present the data as a line chart for identifying trends in the company's sales and revenue performance on a monthly basis."
      ]
    },
    {
      "cell_type": "markdown",
      "metadata": {},
      "source": [
        "**Plot:** Monthly Sales Trends"
      ]
    },
    {
      "cell_type": "code",
      "execution_count": null,
      "metadata": {},
      "outputs": [
        {
          "data": {
            "image/png": "[encoded data removed]",
            "text/plain": [
              "<Figure size 1200x600 with 1 Axes>"
            ]
          },
          "metadata": {},
          "output_type": "display_data"
        }
      ],
      "source": [
        "plt.figure(figsize=(12, 6))\n",
        "\n",
        "plt.plot(vis_order[\"order_date\"], vis_order[\"order_count\"], marker='o', linewidth=2, color=\"#72BCD4\") \n",
        "plt.title(\"Number of Orders per Month (October 2016-October 2018)\", loc=\"center\", fontsize=20, pad=10) \n",
        "plt.grid(True)\n",
        "plt.xlabel(\"Year-Month\", fontsize=15, labelpad=10)\n",
        "plt.ylabel(\"Number of Order\", fontsize=15, labelpad=10)\n",
        "plt.xticks(rotation=45, fontsize=10) \n",
        "plt.yticks(fontsize=10)\n",
        "# Adjust y-axis to have a bit of space around the data\n",
        "plt.ylim(vis_order[\"order_count\"].min() - 1000, vis_order[\"order_count\"].max() + 1000)\n",
        "\n",
        "# Find highest and lowest values for sales\n",
        "highest_sales = vis_order[\"order_count\"].max()\n",
        "lowest_sales = vis_order[\"order_count\"].min()\n",
        "highest_sales_date = vis_order[vis_order[\"order_count\"] == highest_sales][\"order_date\"].values[0]\n",
        "lowest_sales_date = vis_order[vis_order[\"order_count\"] == lowest_sales][\"order_date\"].values[0]\n",
        "\n",
        "# Highlight the highest and lowest point\n",
        "plt.scatter(highest_sales_date, highest_sales, color=\"#4A8F5F\", zorder=5)\n",
        "plt.annotate(f\"Highest: {highest_sales}\", (highest_sales_date, highest_sales), \n",
        "             textcoords=\"offset points\", xytext=(0, 10), ha=\"center\", fontsize=10, color=\"green\")\n",
        "plt.scatter(lowest_sales_date, lowest_sales, color=\"red\", zorder=5)\n",
        "plt.annotate(f\"Lowest: {lowest_sales}\", (lowest_sales_date, lowest_sales), \n",
        "             textcoords=\"offset points\", xytext=(0, -18), ha=\"center\", fontsize=10, color=\"#B03A2F\")\n",
        "\n",
        "plt.tight_layout()\n",
        "plt.show()"
      ]
    },
    {
      "cell_type": "markdown",
      "metadata": {},
      "source": [
        "**Plot:** Monthly Revenues Trends"
      ]
    },
    {
      "cell_type": "code",
      "execution_count": null,
      "metadata": {},
      "outputs": [
        {
          "data": {
            "image/png": "[encoded data removed]",
            "text/plain": [
              "<Figure size 1200x600 with 1 Axes>"
            ]
          },
          "metadata": {},
          "output_type": "display_data"
        }
      ],
      "source": [
        "plt.figure(figsize=(12, 6))\n",
        "\n",
        "plt.plot(vis_order[\"order_date\"], vis_order[\"revenue\"], marker='o', linewidth=2, color=\"#72BCD4\") \n",
        "plt.title(\"Revenues per Month (October 2016-October 2018)\", loc=\"center\", fontsize=20, pad=10) \n",
        "plt.grid(True)\n",
        "plt.xlabel(\"Year-Month\", fontsize=15, labelpad=10)\n",
        "plt.ylabel(\"Revenue\", fontsize=15, labelpad=10)\n",
        "plt.xticks(rotation=45, fontsize=10) \n",
        "plt.yticks(fontsize=10)\n",
        "# Y-axis in float with 2 digits of decimal\n",
        "plt.gca().yaxis.set_major_formatter(mticker.FormatStrFormatter('%.2f'))\n",
        "# Adjust y-axis to have a bit of space around the data\n",
        "plt.ylim(vis_order[\"revenue\"].min() - 170000, vis_order[\"revenue\"].max() + 170000)\n",
        "\n",
        "# Find highest and lowest values for revenues\n",
        "highest_revenues = vis_order[\"revenue\"].max()\n",
        "lowest_revenues = vis_order[\"revenue\"].min()\n",
        "highest_revenues_date = vis_order[vis_order[\"revenue\"] == highest_revenues][\"order_date\"].values[0]\n",
        "lowest_revenues_date = vis_order[vis_order[\"revenue\"] == lowest_revenues][\"order_date\"].values[0]\n",
        "\n",
        "# Highlight the highest and lowest point\n",
        "plt.scatter(highest_revenues_date, highest_revenues, color=\"#4A8F5F\", zorder=5)\n",
        "plt.annotate(f\"Highest: {highest_revenues:.2f}\", (highest_revenues_date, highest_revenues), \n",
        "             textcoords=\"offset points\", xytext=(0, 10), ha=\"center\", fontsize=10, color=\"green\")\n",
        "plt.scatter(lowest_revenues_date, lowest_revenues, color=\"red\", zorder=5)\n",
        "plt.annotate(f\"Lowest: {lowest_revenues:.2f}\", (lowest_revenues_date, lowest_revenues), \n",
        "             textcoords=\"offset points\", xytext=(0, -20), ha=\"right\", fontsize=10, color=\"#B03A2F\")\n",
        "\n",
        "plt.tight_layout()\n",
        "plt.show()"
      ]
    },
    {
      "cell_type": "markdown",
      "metadata": {
        "id": "DgHI7CiU8DC2"
      },
      "source": [
        "### **Question 2:** What is the distribution of customer transaction locations for the company?  \n",
        "#### Objective: Assess the geographic spread of customers who are aware of the company's products (e-commerce) based on location."
      ]
    },
    {
      "cell_type": "markdown",
      "metadata": {},
      "source": [
        "#### **Step 1**: Grouping the Data\n",
        "##### Objective: Group the data to make it easier to present during the visualization phase."
      ]
    },
    {
      "cell_type": "code",
      "execution_count": 94,
      "metadata": {
        "id": "Go0lCsvO8DC2"
      },
      "outputs": [],
      "source": [
        "vis_cust = df.groupby(by=\"customer_city\").customer_id.nunique().reset_index()\n",
        "vis_cust.rename(columns={\n",
        "    \"customer_id\": \"customer_count\"\n",
        "}, inplace=True)"
      ]
    },
    {
      "cell_type": "markdown",
      "metadata": {},
      "source": [
        "#### **Step 2**: Categorizing Data into *Top 9 Cities and Others*\n",
        "##### Objective: Summarize the visualization for more straightforward analysis."
      ]
    },
    {
      "cell_type": "code",
      "execution_count": 95,
      "metadata": {},
      "outputs": [],
      "source": [
        "# Insert the top 9 data with the highest count into the 'top_cities' variable\n",
        "top_cities = vis_cust.sort_values(by=\"customer_count\", ascending=False).head(9)\n",
        "\n",
        "# Insert the remaining data into the 'others_cities' variable\n",
        "others_cities = vis_cust.sort_values(by=\"customer_count\", ascending=False).iloc[9:][\"customer_count\"].sum()\n",
        "\n",
        "# Create the 'others_cities' variable in a data frame format\n",
        "others_df = pd.DataFrame({\n",
        "    \"customer_city\": [\"Others\"],\n",
        "    \"customer_count\": [others_cities]\n",
        "})\n",
        "\n",
        "# Combine the 'top_cities' and 'others_cities' DataFrames to present them together in the next stage\n",
        "top_cities = pd.concat([top_cities, others_df], ignore_index=True)"
      ]
    },
    {
      "cell_type": "markdown",
      "metadata": {},
      "source": [
        "#### **Step 3**: Data Visualization\n",
        "##### Objective: To present the data as a horizontal bar plot for identifying the distribution of customers by city."
      ]
    },
    {
      "cell_type": "code",
      "execution_count": 96,
      "metadata": {},
      "outputs": [
        {
          "data": {
            "image/png": "[encoded data removed]",
            "text/plain": [
              "<Figure size 1000x500 with 1 Axes>"
            ]
          },
          "metadata": {},
          "output_type": "display_data"
        }
      ],
      "source": [
        "plt.figure(figsize=(10, 5))\n",
        "\n",
        "plt.title(\"Number of Customers by City (Top 9 and Others)\", loc=\"center\", fontsize=20, pad=10)\n",
        "plt.xlabel(\"Number of Customer\", fontsize=15, labelpad=10)\n",
        "plt.ylabel(\"City\", fontsize=15, labelpad=10)\n",
        "plt.tick_params(axis='y', labelsize=10)\n",
        "# Adjust x-axis to have a bit of space around the data\n",
        "plt.xlim(0,top_cities[\"customer_count\"].max() + 6000)\n",
        "\n",
        "vis_custCity = sns.barplot(\n",
        "    x=\"customer_count\", \n",
        "    y=\"customer_city\",\n",
        "    data=top_cities,\n",
        "    color='#A0D3E4'\n",
        ")\n",
        "\n",
        "# Highlight the top first city\n",
        "vis_custCity.patches[0].set_facecolor('#5A9BB2')\n",
        "# Annotate the bars with customer count values\n",
        "for index, value in enumerate(top_cities[\"customer_count\"]):\n",
        "    vis_custCity.text(value + 500, index, f'{value}', va='center', \n",
        "                      # Apply bold only for the top first city (index 0)\n",
        "                      fontweight='bold' if index == 0 else 'normal')\n",
        "plt.gca().get_yticklabels()[0].set_fontweight('bold')\n",
        "\n",
        "plt.show()"
      ]
    },
    {
      "cell_type": "markdown",
      "metadata": {},
      "source": [
        "### **Question 3:** What is the relationship between customer locations and seller locations involved in transactions?\n",
        "#### Objective: Analyze the impact of customer and seller locations in transactions."
      ]
    },
    {
      "cell_type": "markdown",
      "metadata": {},
      "source": [
        "#### **Step 1**: Grouping the Data\n",
        "##### Objective: Group the data to make it easier to present during the visualization phase."
      ]
    },
    {
      "cell_type": "code",
      "execution_count": 97,
      "metadata": {},
      "outputs": [],
      "source": [
        "vis_loc = df.groupby(by='customer_city').agg({\n",
        "    \"customer_id\": \"nunique\",\n",
        "    \"seller_city\": \"nunique\"\n",
        "})"
      ]
    },
    {
      "cell_type": "markdown",
      "metadata": {},
      "source": [
        "#### **Step 2**: Indexing and Renaming Data\n",
        "##### Objective: Enhance data readability and avoid misconceptions regarding data labels."
      ]
    },
    {
      "cell_type": "code",
      "execution_count": 98,
      "metadata": {},
      "outputs": [],
      "source": [
        "vis_loc.nunique().reset_index()\n",
        "vis_loc.rename(columns={\n",
        "    # Number of customers from a particular city\n",
        "    \"customer_id\": \"customer_count\",    \n",
        "    # Number of seller locations that have transacted with customers from a particular city\n",
        "    \"seller_city\": \"city_of_sellers\"\n",
        "}, inplace=True)"
      ]
    },
    {
      "cell_type": "markdown",
      "metadata": {},
      "source": [
        "#### **Step 3**: Data Visualization\n",
        "##### Objective: Present the data as a scatter plot with a *regression* line for identifying relationships between customer location groups and the diversity of seller locations involved in transactions."
      ]
    },
    {
      "cell_type": "code",
      "execution_count": 99,
      "metadata": {},
      "outputs": [],
      "source": [
        "# Calculating the regression line\n",
        "slope, intercept = np.polyfit(vis_loc[\"customer_count\"], vis_loc[\"city_of_sellers\"], 1)\n",
        "regression_line = slope * vis_loc[\"customer_count\"] + intercept"
      ]
    },
    {
      "cell_type": "code",
      "execution_count": 102,
      "metadata": {},
      "outputs": [
        {
          "data": {
            "image/png": "[encoded data removed]",
            "text/plain": [
              "<Figure size 1000x500 with 1 Axes>"
            ]
          },
          "metadata": {},
          "output_type": "display_data"
        }
      ],
      "source": [
        "plt.figure(figsize=(10, 5))\n",
        "\n",
        "plt.title(\"Number of Customers by City VS Number of Seller Cities Involved\", loc=\"center\", fontsize=15, pad=10)\n",
        "plt.grid(True)\n",
        "plt.xlabel(\"Number of Customer\", fontsize=15, labelpad=10)\n",
        "plt.ylabel(\"Number of Seller Cities\", fontsize=15, labelpad=10)\n",
        "\n",
        "# Creating a scatter plot\n",
        "sns.scatterplot(\n",
        "    x=\"customer_count\",\n",
        "    y=\"city_of_sellers\",\n",
        "    data=vis_loc,\n",
        "    color='#72BCD4'\n",
        ")\n",
        "# Adding the regression line to the plot\n",
        "sns.lineplot(\n",
        "    x=vis_loc[\"customer_count\"], \n",
        "    y=regression_line, \n",
        "    color='#4A8F5F'\n",
        ")\n",
        "\n",
        "plt.tight_layout()\n",
        "plt.show()"
      ]
    },
    {
      "cell_type": "markdown",
      "metadata": {
        "id": "_0-36BDLklRg"
      },
      "source": [
        "**Insight:**\n",
        "- Visualization of the company's sales and revenue over the last two years shows a consistent upward trend in sales and revenue on a month-to-month basis. A line chart was used to highlight the trend.\n",
        "- Visualization of customer location data compares the top 9 cities with the highest number of customers: Sao Paulo, Rio de Janeiro, Belo Horizonte, Brasilia, Curitiba, Campinas, Porto Alegre, Salvador, and Guarulhos. All other cities are grouped under \"Others\". A horizontal bar chart was used to compare customer counts across cities.\n",
        "- Visualization of the relationship between customer and seller locations reveals a linear correlation: the higher the number of customers in a city, the more diverse the seller locations involved. A scatter plot with a regression line was used to illustrate the relationship between the two variables."
      ]
    },
    {
      "cell_type": "markdown",
      "metadata": {
        "id": "_WeHlCeX8DC2"
      },
      "source": [
        "## Conclusion"
      ]
    },
    {
      "cell_type": "markdown",
      "metadata": {
        "id": "ZTcyR48Y8DC2"
      },
      "source": [
        "- **How is the company's sales and revenue performance on a month-to-month basis?**  \n",
        "    The company's sales and revenue performance shows a tending upward trend month to month, indicating improved performance and increasing customer trust.\n",
        "- **What is the distribution of customer transaction locations for the company?**  \n",
        "    The company's customers are distributed across 4,110 cities, with an average of 24 customers per city. Sao Paulo has the highest number of customers, totaling 15,402.\n",
        "- **What is the relationship between customer locations and seller locations involved in transactions?**  \n",
        "    The relationship between customer and seller locations shows a positive correlation: the higher the number of customers in a city, the more diverse the seller locations transacting with those customers."
      ]
    },
    {
      "cell_type": "code",
      "execution_count": 101,
      "metadata": {},
      "outputs": [],
      "source": [
        "df.to_csv(\"main_data.csv\", index=False)"
      ]
    }
  ],
  "metadata": {
    "colab": {
      "provenance": []
    },
    "kernelspec": {
      "display_name": "Python 3",
      "language": "python",
      "name": "python3"
    },
    "language_info": {
      "codemirror_mode": {
        "name": "ipython",
        "version": 3
      },
      "file_extension": ".py",
      "mimetype": "text/x-python",
      "name": "python",
      "nbconvert_exporter": "python",
      "pygments_lexer": "ipython3",
      "version": "3.11.1"
    },
    "orig_nbformat": 4,
    "vscode": {
      "interpreter": {
        "hash": "972b3bf27e332e87b5379f2791f6ef9dfc79c71018c370b0d7423235e20fe4d7"
      }
    }
  },
  "nbformat": 4,
  "nbformat_minor": 0
}
